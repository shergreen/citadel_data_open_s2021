{
 "cells": [
  {
   "cell_type": "code",
   "execution_count": 1,
   "metadata": {},
   "outputs": [],
   "source": [
    "import numpy as np\n",
    "import pandas as pd\n",
    "import matplotlib.pyplot as plt\n",
    "import seaborn as sns\n",
    "from scipy.stats import pearsonr, spearmanr\n",
    "from statsmodels.tsa.stattools import adfuller, grangercausalitytests, kpss\n",
    "import os\n",
    "import time\n",
    "%matplotlib inline"
   ]
  },
  {
   "cell_type": "code",
   "execution_count": 2,
   "metadata": {},
   "outputs": [],
   "source": [
    "plt.style.use('default') \n",
    "plt.rc('font',  size=9) \n",
    "plt.rc('figure', figsize=(4,3), dpi=150) "
   ]
  },
  {
   "cell_type": "code",
   "execution_count": 133,
   "metadata": {},
   "outputs": [],
   "source": [
    "us_state_abbrev = {\n",
    "    'Alabama': 'AL',\n",
    "    'Alaska': 'AK',\n",
    "    'American Samoa': 'AS',\n",
    "    'Arizona': 'AZ',\n",
    "    'Arkansas': 'AR',\n",
    "    'California': 'CA',\n",
    "    'Colorado': 'CO',\n",
    "    'Connecticut': 'CT',\n",
    "    'Delaware': 'DE',\n",
    "    'Washington DC': 'DC',\n",
    "    'Florida': 'FL',\n",
    "    'Georgia': 'GA',\n",
    "    'Guam': 'GU',\n",
    "    'Hawaii': 'HI',\n",
    "    'Idaho': 'ID',\n",
    "    'Illinois': 'IL',\n",
    "    'Indiana': 'IN',\n",
    "    'Iowa': 'IA',\n",
    "    'Kansas': 'KS',\n",
    "    'Kentucky': 'KY',\n",
    "    'Louisiana': 'LA',\n",
    "    'Maine': 'ME',\n",
    "    'Maryland': 'MD',\n",
    "    'Massachusetts': 'MA',\n",
    "    'Michigan': 'MI',\n",
    "    'Minnesota': 'MN',\n",
    "    'Mississippi': 'MS',\n",
    "    'Missouri': 'MO',\n",
    "    'Montana': 'MT',\n",
    "    'Nebraska': 'NE',\n",
    "    'Nevada': 'NV',\n",
    "    'New Hampshire': 'NH',\n",
    "    'New Jersey': 'NJ',\n",
    "    'New Mexico': 'NM',\n",
    "    'New York': 'NY',\n",
    "    'North Carolina': 'NC',\n",
    "    'North Dakota': 'ND',\n",
    "    'Northern Mariana Islands':'MP',\n",
    "    'Ohio': 'OH',\n",
    "    'Oklahoma': 'OK',\n",
    "    'Oregon': 'OR',\n",
    "    'Pennsylvania': 'PA',\n",
    "    'Puerto Rico': 'PR',\n",
    "    'Rhode Island': 'RI',\n",
    "    'South Carolina': 'SC',\n",
    "    'South Dakota': 'SD',\n",
    "    'Tennessee': 'TN',\n",
    "    'Texas': 'TX',\n",
    "    'Utah': 'UT',\n",
    "    'Vermont': 'VT',\n",
    "    'Virgin Islands': 'VI',\n",
    "    'Virginia': 'VA',\n",
    "    'Washington': 'WA',\n",
    "    'West Virginia': 'WV',\n",
    "    'Wisconsin': 'WI',\n",
    "    'Wyoming': 'WY'\n",
    "}"
   ]
  },
  {
   "cell_type": "code",
   "execution_count": 3,
   "metadata": {},
   "outputs": [
    {
     "name": "stdout",
     "output_type": "stream",
     "text": [
      "20145\n"
     ]
    }
   ],
   "source": [
    "df = pd.read_csv('states_unstacked.csv')\n",
    "print(len(df))\n",
    "df.rename(columns={'Unnamed: 0': 'statefips'}, inplace=True)\n",
    "df = df[df.date <= '2021-02-25']"
   ]
  },
  {
   "cell_type": "code",
   "execution_count": 219,
   "metadata": {},
   "outputs": [
    {
     "data": {
      "text/html": [
       "<div>\n",
       "<style scoped>\n",
       "    .dataframe tbody tr th:only-of-type {\n",
       "        vertical-align: middle;\n",
       "    }\n",
       "\n",
       "    .dataframe tbody tr th {\n",
       "        vertical-align: top;\n",
       "    }\n",
       "\n",
       "    .dataframe thead th {\n",
       "        text-align: right;\n",
       "    }\n",
       "</style>\n",
       "<table border=\"1\" class=\"dataframe\">\n",
       "  <thead>\n",
       "    <tr style=\"text-align: right;\">\n",
       "      <th></th>\n",
       "      <th>statefips</th>\n",
       "      <th>date</th>\n",
       "      <th>Stringency</th>\n",
       "      <th>positiveIncrease</th>\n",
       "      <th>deathIncrease</th>\n",
       "      <th>hospitalizedIncrease</th>\n",
       "      <th>totalTestsPeopleViralIncrease</th>\n",
       "    </tr>\n",
       "  </thead>\n",
       "  <tbody>\n",
       "    <tr>\n",
       "      <th>20136</th>\n",
       "      <td>56</td>\n",
       "      <td>2021-02-21</td>\n",
       "      <td>58.33</td>\n",
       "      <td>112.0</td>\n",
       "      <td>0.0</td>\n",
       "      <td>2.0</td>\n",
       "      <td>0.0</td>\n",
       "    </tr>\n",
       "    <tr>\n",
       "      <th>20137</th>\n",
       "      <td>56</td>\n",
       "      <td>2021-02-22</td>\n",
       "      <td>61.11</td>\n",
       "      <td>105.0</td>\n",
       "      <td>0.0</td>\n",
       "      <td>3.0</td>\n",
       "      <td>946.0</td>\n",
       "    </tr>\n",
       "    <tr>\n",
       "      <th>20138</th>\n",
       "      <td>56</td>\n",
       "      <td>2021-02-23</td>\n",
       "      <td>61.11</td>\n",
       "      <td>44.0</td>\n",
       "      <td>9.0</td>\n",
       "      <td>1.0</td>\n",
       "      <td>0.0</td>\n",
       "    </tr>\n",
       "    <tr>\n",
       "      <th>20139</th>\n",
       "      <td>56</td>\n",
       "      <td>2021-02-24</td>\n",
       "      <td>61.11</td>\n",
       "      <td>44.0</td>\n",
       "      <td>0.0</td>\n",
       "      <td>1.0</td>\n",
       "      <td>852.0</td>\n",
       "    </tr>\n",
       "    <tr>\n",
       "      <th>20140</th>\n",
       "      <td>56</td>\n",
       "      <td>2021-02-25</td>\n",
       "      <td>61.11</td>\n",
       "      <td>214.0</td>\n",
       "      <td>0.0</td>\n",
       "      <td>3.0</td>\n",
       "      <td>364.0</td>\n",
       "    </tr>\n",
       "  </tbody>\n",
       "</table>\n",
       "</div>"
      ],
      "text/plain": [
       "       statefips        date  Stringency  positiveIncrease  deathIncrease  \\\n",
       "20136         56  2021-02-21       58.33             112.0            0.0   \n",
       "20137         56  2021-02-22       61.11             105.0            0.0   \n",
       "20138         56  2021-02-23       61.11              44.0            9.0   \n",
       "20139         56  2021-02-24       61.11              44.0            0.0   \n",
       "20140         56  2021-02-25       61.11             214.0            0.0   \n",
       "\n",
       "       hospitalizedIncrease  totalTestsPeopleViralIncrease  \n",
       "20136                   2.0                            0.0  \n",
       "20137                   3.0                          946.0  \n",
       "20138                   1.0                            0.0  \n",
       "20139                   1.0                          852.0  \n",
       "20140                   3.0                          364.0  "
      ]
     },
     "execution_count": 219,
     "metadata": {},
     "output_type": "execute_result"
    }
   ],
   "source": [
    "df.tail()"
   ]
  },
  {
   "cell_type": "code",
   "execution_count": 4,
   "metadata": {},
   "outputs": [
    {
     "data": {
      "text/html": [
       "<div>\n",
       "<style scoped>\n",
       "    .dataframe tbody tr th:only-of-type {\n",
       "        vertical-align: middle;\n",
       "    }\n",
       "\n",
       "    .dataframe tbody tr th {\n",
       "        vertical-align: top;\n",
       "    }\n",
       "\n",
       "    .dataframe thead th {\n",
       "        text-align: right;\n",
       "    }\n",
       "</style>\n",
       "<table border=\"1\" class=\"dataframe\">\n",
       "  <thead>\n",
       "    <tr style=\"text-align: right;\">\n",
       "      <th></th>\n",
       "      <th>statefips</th>\n",
       "      <th>statename</th>\n",
       "      <th>date</th>\n",
       "      <th>shadow_index_normalized</th>\n",
       "    </tr>\n",
       "  </thead>\n",
       "  <tbody>\n",
       "    <tr>\n",
       "      <th>19936</th>\n",
       "      <td>51</td>\n",
       "      <td>Virginia</td>\n",
       "      <td>2021-02-25</td>\n",
       "      <td>54.487582</td>\n",
       "    </tr>\n",
       "    <tr>\n",
       "      <th>19937</th>\n",
       "      <td>53</td>\n",
       "      <td>Washington</td>\n",
       "      <td>2021-02-25</td>\n",
       "      <td>33.655507</td>\n",
       "    </tr>\n",
       "    <tr>\n",
       "      <th>19938</th>\n",
       "      <td>54</td>\n",
       "      <td>West Virginia</td>\n",
       "      <td>2021-02-25</td>\n",
       "      <td>40.557192</td>\n",
       "    </tr>\n",
       "    <tr>\n",
       "      <th>19939</th>\n",
       "      <td>55</td>\n",
       "      <td>Wisconsin</td>\n",
       "      <td>2021-02-25</td>\n",
       "      <td>46.619273</td>\n",
       "    </tr>\n",
       "    <tr>\n",
       "      <th>19940</th>\n",
       "      <td>56</td>\n",
       "      <td>Wyoming</td>\n",
       "      <td>2021-02-25</td>\n",
       "      <td>42.436364</td>\n",
       "    </tr>\n",
       "  </tbody>\n",
       "</table>\n",
       "</div>"
      ],
      "text/plain": [
       "       statefips      statename        date  shadow_index_normalized\n",
       "19936         51       Virginia  2021-02-25                54.487582\n",
       "19937         53     Washington  2021-02-25                33.655507\n",
       "19938         54  West Virginia  2021-02-25                40.557192\n",
       "19939         55      Wisconsin  2021-02-25                46.619273\n",
       "19940         56        Wyoming  2021-02-25                42.436364"
      ]
     },
     "execution_count": 4,
     "metadata": {},
     "output_type": "execute_result"
    }
   ],
   "source": [
    "sdi = pd.read_csv('mobility_pca_only.csv', index_col=0)\n",
    "sdi.rename(columns={'Date':'date'}, inplace=True)\n",
    "sdi.tail()"
   ]
  },
  {
   "cell_type": "code",
   "execution_count": 13,
   "metadata": {},
   "outputs": [],
   "source": [
    "corr_stringency_positiveincrease = []\n",
    "for state in df.statefips.unique():\n",
    "    sub_df = df[df['statefips'] == state]\n",
    "    corr_stringency_positiveincrease.append(pearsonr(sub_df.Stringency.values[:-7], sub_df.positiveIncrease.values[7:])[0])"
   ]
  },
  {
   "cell_type": "code",
   "execution_count": 17,
   "metadata": {},
   "outputs": [
    {
     "data": {
      "text/plain": [
       "Text(0, 0.5, '# states')"
      ]
     },
     "execution_count": 17,
     "metadata": {},
     "output_type": "execute_result"
    },
    {
     "data": {
      "image/png": "[encoded data removed]",
      "text/plain": [
       "<Figure size 600x450 with 1 Axes>"
      ]
     },
     "metadata": {},
     "output_type": "display_data"
    }
   ],
   "source": [
    "plt.hist(corr_stringency_positiveincrease)\n",
    "plt.xlabel('Corr(Stringency, positiveIncrease7daysLater)')\n",
    "plt.ylabel('# states')"
   ]
  },
  {
   "cell_type": "code",
   "execution_count": 18,
   "metadata": {},
   "outputs": [],
   "source": [
    "corr_stringency_deathincrease = []\n",
    "for state in df.statefips.unique():\n",
    "    sub_df = df[df['statefips'] == state]\n",
    "    corr_stringency_deathincrease.append(pearsonr(sub_df.Stringency.values[:-7], sub_df.deathIncrease.values[7:])[0])\n",
    "    \n",
    "    "
   ]
  },
  {
   "cell_type": "code",
   "execution_count": 19,
   "metadata": {},
   "outputs": [
    {
     "data": {
      "text/plain": [
       "Text(0, 0.5, '# states')"
      ]
     },
     "execution_count": 19,
     "metadata": {},
     "output_type": "execute_result"
    },
    {
     "data": {
      "image/png": "[encoded data removed]",
      "text/plain": [
       "<Figure size 600x450 with 1 Axes>"
      ]
     },
     "metadata": {},
     "output_type": "display_data"
    }
   ],
   "source": [
    "plt.hist(corr_stringency_deathincrease)\n",
    "plt.xlabel('Corr(Stringency, deathIncrease7daysLater)')\n",
    "plt.ylabel('# states')"
   ]
  },
  {
   "cell_type": "code",
   "execution_count": 20,
   "metadata": {},
   "outputs": [
    {
     "name": "stderr",
     "output_type": "stream",
     "text": [
      "//anaconda3/lib/python3.7/site-packages/scipy/stats/stats.py:3845: PearsonRConstantInputWarning: An input array is constant; the correlation coefficent is not defined.\n",
      "  warnings.warn(PearsonRConstantInputWarning())\n",
      "//anaconda3/lib/python3.7/site-packages/scipy/stats/stats.py:3845: PearsonRConstantInputWarning: An input array is constant; the correlation coefficent is not defined.\n",
      "  warnings.warn(PearsonRConstantInputWarning())\n",
      "//anaconda3/lib/python3.7/site-packages/scipy/stats/stats.py:3845: PearsonRConstantInputWarning: An input array is constant; the correlation coefficent is not defined.\n",
      "  warnings.warn(PearsonRConstantInputWarning())\n",
      "//anaconda3/lib/python3.7/site-packages/scipy/stats/stats.py:3845: PearsonRConstantInputWarning: An input array is constant; the correlation coefficent is not defined.\n",
      "  warnings.warn(PearsonRConstantInputWarning())\n",
      "//anaconda3/lib/python3.7/site-packages/scipy/stats/stats.py:3845: PearsonRConstantInputWarning: An input array is constant; the correlation coefficent is not defined.\n",
      "  warnings.warn(PearsonRConstantInputWarning())\n",
      "//anaconda3/lib/python3.7/site-packages/scipy/stats/stats.py:3845: PearsonRConstantInputWarning: An input array is constant; the correlation coefficent is not defined.\n",
      "  warnings.warn(PearsonRConstantInputWarning())\n",
      "//anaconda3/lib/python3.7/site-packages/scipy/stats/stats.py:3845: PearsonRConstantInputWarning: An input array is constant; the correlation coefficent is not defined.\n",
      "  warnings.warn(PearsonRConstantInputWarning())\n",
      "//anaconda3/lib/python3.7/site-packages/scipy/stats/stats.py:3845: PearsonRConstantInputWarning: An input array is constant; the correlation coefficent is not defined.\n",
      "  warnings.warn(PearsonRConstantInputWarning())\n",
      "//anaconda3/lib/python3.7/site-packages/scipy/stats/stats.py:3845: PearsonRConstantInputWarning: An input array is constant; the correlation coefficent is not defined.\n",
      "  warnings.warn(PearsonRConstantInputWarning())\n",
      "//anaconda3/lib/python3.7/site-packages/scipy/stats/stats.py:3845: PearsonRConstantInputWarning: An input array is constant; the correlation coefficent is not defined.\n",
      "  warnings.warn(PearsonRConstantInputWarning())\n"
     ]
    }
   ],
   "source": [
    "corr_stringency_hospitalizedincrease = []\n",
    "for state in df.statefips.unique():\n",
    "    sub_df = df[df['statefips'] == state]\n",
    "    corr_stringency_hospitalizedincrease.append(pearsonr(sub_df.Stringency.values[:-7], sub_df.hospitalizedIncrease.values[7:])[0])\n",
    "    \n",
    "    "
   ]
  },
  {
   "cell_type": "code",
   "execution_count": 21,
   "metadata": {},
   "outputs": [
    {
     "data": {
      "text/plain": [
       "Text(0, 0.5, '# states')"
      ]
     },
     "execution_count": 21,
     "metadata": {},
     "output_type": "execute_result"
    },
    {
     "data": {
      "image/png": "[encoded data removed]",
      "text/plain": [
       "<Figure size 600x450 with 1 Axes>"
      ]
     },
     "metadata": {},
     "output_type": "display_data"
    }
   ],
   "source": [
    "plt.hist(corr_stringency_hospitalizedincrease)\n",
    "plt.xlabel('Corr(Stringency, hospitalizedIncrease7daysLater)')\n",
    "plt.ylabel('# states')"
   ]
  },
  {
   "cell_type": "markdown",
   "metadata": {},
   "source": [
    "## Merge SDI and all other stats"
   ]
  },
  {
   "cell_type": "code",
   "execution_count": 24,
   "metadata": {},
   "outputs": [
    {
     "name": "stdout",
     "output_type": "stream",
     "text": [
      "      statefips        date  Stringency  positiveIncrease  deathIncrease  \\\n",
      "1966          6  2021-02-21       61.57            6760.0          280.0   \n",
      "1967          6  2021-02-22       61.57            4665.0          233.0   \n",
      "1968          6  2021-02-23       61.57            3447.0          225.0   \n",
      "1969          6  2021-02-24       61.57            5303.0          314.0   \n",
      "1970          6  2021-02-25       61.57            4965.0         1114.0   \n",
      "\n",
      "      hospitalizedIncrease  totalTestsPeopleViralIncrease  \n",
      "1966                   0.0                            0.0  \n",
      "1967                   0.0                            0.0  \n",
      "1968                   0.0                            0.0  \n",
      "1969                   0.0                            0.0  \n",
      "1970                   0.0                            0.0  \n",
      "       statefips   statename        date  shadow_index_normalized\n",
      "19690          6  California  2021-02-21                52.866823\n",
      "19741          6  California  2021-02-22                52.707938\n",
      "19792          6  California  2021-02-23                52.644785\n",
      "19843          6  California  2021-02-24                52.644785\n",
      "19894          6  California  2021-02-25                52.644785\n",
      "391\n",
      "391\n"
     ]
    }
   ],
   "source": [
    "state = 6  # CA\n",
    "df_CA = df[(df.statefips==state)]\n",
    "sdi_CA = sdi[sdi.statefips==state]\n",
    "print(df_CA.tail())\n",
    "print(sdi_CA.tail())\n",
    "print(len(df_CA))\n",
    "print(len(sdi_CA))"
   ]
  },
  {
   "cell_type": "code",
   "execution_count": 63,
   "metadata": {},
   "outputs": [],
   "source": [
    "ts_positiveIncrease = df_CA['positiveIncrease']\n",
    "ts_deathIncrease = df_CA['deathIncrease']\n",
    "ts_hospitalizedIncrease = df_CA['hospitalizedIncrease']\n",
    "ts_sdi = sdi_CA['shadow_index_normalized']\n",
    "ts_stringency = df_CA['Stringency']"
   ]
  },
  {
   "cell_type": "code",
   "execution_count": 64,
   "metadata": {},
   "outputs": [],
   "source": [
    "def augmented_dickey_fuller_statistics(time_series):\n",
    "    result = adfuller(time_series.values)\n",
    "    print('ADF Statistic: %f' % result[0])\n",
    "    print('p-value: %f' % result[1])\n",
    "    print('Critical Values:')\n",
    "    for key, value in result[4].items():\n",
    "        print('\\t%s: %.3f' % (key, value))"
   ]
  },
  {
   "cell_type": "code",
   "execution_count": 65,
   "metadata": {},
   "outputs": [
    {
     "name": "stdout",
     "output_type": "stream",
     "text": [
      "ADF Statistic: -3.528809\n",
      "p-value: 0.007277\n",
      "Critical Values:\n",
      "\t1%: -3.448\n",
      "\t5%: -2.869\n",
      "\t10%: -2.571\n",
      "ADF Statistic: -3.665422\n",
      "p-value: 0.004627\n",
      "Critical Values:\n",
      "\t1%: -3.448\n",
      "\t5%: -2.869\n",
      "\t10%: -2.571\n",
      "ADF Statistic: -5.034433\n",
      "p-value: 0.000019\n",
      "Critical Values:\n",
      "\t1%: -3.448\n",
      "\t5%: -2.869\n",
      "\t10%: -2.571\n",
      "ADF Statistic: -3.655449\n",
      "p-value: 0.004785\n",
      "Critical Values:\n",
      "\t1%: -3.448\n",
      "\t5%: -2.869\n",
      "\t10%: -2.571\n"
     ]
    }
   ],
   "source": [
    "augmented_dickey_fuller_statistics(ts_positiveIncrease.diff().dropna())\n",
    "augmented_dickey_fuller_statistics(ts_deathIncrease.diff().dropna())\n",
    "#augmented_dickey_fuller_statistics(ts_hospitalizedIncrease.diff().dropna())\n",
    "augmented_dickey_fuller_statistics(ts_sdi.diff().dropna())\n",
    "augmented_dickey_fuller_statistics(ts_stringency)"
   ]
  },
  {
   "cell_type": "code",
   "execution_count": 66,
   "metadata": {},
   "outputs": [
    {
     "data": {
      "text/plain": [
       "<AxesSubplot:>"
      ]
     },
     "execution_count": 66,
     "metadata": {},
     "output_type": "execute_result"
    },
    {
     "data": {
      "image/png": "[encoded data removed]",
      "text/plain": [
       "<Figure size 432x288 with 1 Axes>"
      ]
     },
     "metadata": {
      "needs_background": "light"
     },
     "output_type": "display_data"
    }
   ],
   "source": [
    "ts_positiveIncrease.diff().dropna().plot()"
   ]
  },
  {
   "cell_type": "code",
   "execution_count": 67,
   "metadata": {},
   "outputs": [
    {
     "data": {
      "text/plain": [
       "<AxesSubplot:>"
      ]
     },
     "execution_count": 67,
     "metadata": {},
     "output_type": "execute_result"
    },
    {
     "data": {
      "image/png": "[encoded data removed]",
      "text/plain": [
       "<Figure size 432x288 with 1 Axes>"
      ]
     },
     "metadata": {
      "needs_background": "light"
     },
     "output_type": "display_data"
    }
   ],
   "source": [
    "ts_deathIncrease.diff().dropna().plot()"
   ]
  },
  {
   "cell_type": "code",
   "execution_count": 68,
   "metadata": {},
   "outputs": [
    {
     "data": {
      "text/plain": [
       "<AxesSubplot:>"
      ]
     },
     "execution_count": 68,
     "metadata": {},
     "output_type": "execute_result"
    },
    {
     "data": {
      "image/png": "[encoded data removed]",
      "text/plain": [
       "<Figure size 432x288 with 1 Axes>"
      ]
     },
     "metadata": {
      "needs_background": "light"
     },
     "output_type": "display_data"
    }
   ],
   "source": [
    "ts_sdi.diff().dropna().plot()"
   ]
  },
  {
   "cell_type": "code",
   "execution_count": 69,
   "metadata": {},
   "outputs": [
    {
     "data": {
      "text/plain": [
       "<AxesSubplot:>"
      ]
     },
     "execution_count": 69,
     "metadata": {},
     "output_type": "execute_result"
    },
    {
     "data": {
      "image/png": "[encoded data removed]",
      "text/plain": [
       "<Figure size 432x288 with 1 Axes>"
      ]
     },
     "metadata": {
      "needs_background": "light"
     },
     "output_type": "display_data"
    }
   ],
   "source": [
    "ts_stringency.plot()"
   ]
  },
  {
   "cell_type": "code",
   "execution_count": 70,
   "metadata": {},
   "outputs": [],
   "source": [
    "def kpss_test(series, **kw):    \n",
    "    statistic, p_value, n_lags, critical_values = kpss(series, **kw)\n",
    "    # Format Output\n",
    "    print(f'KPSS Statistic: {statistic}')\n",
    "    print(f'p-value: {p_value}')\n",
    "    print(f'num lags: {n_lags}')\n",
    "    print('Critial Values:')\n",
    "    for key, value in critical_values.items():\n",
    "        print(f'   {key} : {value}')\n",
    "    print(f'Result: The series is {\"not \" if p_value < 0.05 else \"\"}stationary')"
   ]
  },
  {
   "cell_type": "code",
   "execution_count": 71,
   "metadata": {},
   "outputs": [
    {
     "name": "stdout",
     "output_type": "stream",
     "text": [
      "KPSS Statistic: 0.10007581897234967\n",
      "p-value: 0.1\n",
      "num lags: 17\n",
      "Critial Values:\n",
      "   10% : 0.347\n",
      "   5% : 0.463\n",
      "   2.5% : 0.574\n",
      "   1% : 0.739\n",
      "Result: The series is stationary\n",
      "KPSS Statistic: 0.244588231597027\n",
      "p-value: 0.1\n",
      "num lags: 17\n",
      "Critial Values:\n",
      "   10% : 0.347\n",
      "   5% : 0.463\n",
      "   2.5% : 0.574\n",
      "   1% : 0.739\n",
      "Result: The series is stationary\n",
      "KPSS Statistic: 0.2106002277161973\n",
      "p-value: 0.1\n",
      "num lags: 17\n",
      "Critial Values:\n",
      "   10% : 0.347\n",
      "   5% : 0.463\n",
      "   2.5% : 0.574\n",
      "   1% : 0.739\n",
      "Result: The series is stationary\n",
      "KPSS Statistic: 0.3148304484861136\n",
      "p-value: 0.1\n",
      "num lags: 17\n",
      "Critial Values:\n",
      "   10% : 0.347\n",
      "   5% : 0.463\n",
      "   2.5% : 0.574\n",
      "   1% : 0.739\n",
      "Result: The series is stationary\n"
     ]
    },
    {
     "name": "stderr",
     "output_type": "stream",
     "text": [
      "//anaconda3/lib/python3.7/site-packages/statsmodels/tsa/stattools.py:1843: FutureWarning: The behavior of using nlags=None will change in release 0.13.Currently nlags=None is the same as nlags=\"legacy\", and so a sample-size lag length is used. After the next release, the default will change to be the same as nlags=\"auto\" which uses an automatic lag length selection method. To silence this warning, either use \"auto\" or \"legacy\"\n",
      "  warnings.warn(msg, FutureWarning)\n",
      "//anaconda3/lib/python3.7/site-packages/statsmodels/tsa/stattools.py:1876: InterpolationWarning: The test statistic is outside of the range of p-values available in the\n",
      "look-up table. The actual p-value is greater than the p-value returned.\n",
      "\n",
      "  warnings.warn(warn_msg.format(direction=\"greater\"), InterpolationWarning)\n",
      "//anaconda3/lib/python3.7/site-packages/statsmodels/tsa/stattools.py:1876: InterpolationWarning: The test statistic is outside of the range of p-values available in the\n",
      "look-up table. The actual p-value is greater than the p-value returned.\n",
      "\n",
      "  warnings.warn(warn_msg.format(direction=\"greater\"), InterpolationWarning)\n",
      "//anaconda3/lib/python3.7/site-packages/statsmodels/tsa/stattools.py:1876: InterpolationWarning: The test statistic is outside of the range of p-values available in the\n",
      "look-up table. The actual p-value is greater than the p-value returned.\n",
      "\n",
      "  warnings.warn(warn_msg.format(direction=\"greater\"), InterpolationWarning)\n",
      "//anaconda3/lib/python3.7/site-packages/statsmodels/tsa/stattools.py:1876: InterpolationWarning: The test statistic is outside of the range of p-values available in the\n",
      "look-up table. The actual p-value is greater than the p-value returned.\n",
      "\n",
      "  warnings.warn(warn_msg.format(direction=\"greater\"), InterpolationWarning)\n"
     ]
    }
   ],
   "source": [
    "kpss_test(ts_positiveIncrease.diff().dropna())\n",
    "kpss_test(ts_deathIncrease.diff().dropna())\n",
    "#augmented_dickey_fuller_statistics(ts_hospitalizedIncrease.diff().dropna())\n",
    "kpss_test(ts_sdi.diff().dropna())\n",
    "kpss_test(ts_stringency)"
   ]
  },
  {
   "cell_type": "code",
   "execution_count": 89,
   "metadata": {},
   "outputs": [],
   "source": [
    "maxlag=14\n",
    "test = 'ssr-chi2test'\n",
    "def grangers_causality_matrix(X_train, variables, test = 'ssr_chi2test', verbose=False):\n",
    "    dataset = pd.DataFrame(np.zeros((len(variables), len(variables))), columns=variables, index=variables)\n",
    "    for c in dataset.columns:\n",
    "        for r in dataset.index:\n",
    "            test_result = grangercausalitytests(X_train[[r,c]], maxlag=maxlag, verbose=False)\n",
    "            p_values = [round(test_result[i+1][0][test][1],4) for i in range(maxlag)]\n",
    "            if verbose: print(f'Y = {r}, X = {c}, P Values = {p_values}')\n",
    "            min_p_value = np.min(p_values)\n",
    "            dataset.loc[r,c] = min_p_value\n",
    "    dataset.columns = [var + '_x' for var in variables]\n",
    "    dataset.index = [var + '_y' for var in variables]\n",
    "    return dataset"
   ]
  },
  {
   "cell_type": "code",
   "execution_count": 82,
   "metadata": {},
   "outputs": [],
   "source": [
    "tmp = np.vstack((ts_stringency.values[1:], ts_sdi.diff().dropna().values, ts_positiveIncrease.diff().dropna().values, ts_deathIncrease.diff().dropna().values)).T\n",
    "\n"
   ]
  },
  {
   "cell_type": "code",
   "execution_count": 86,
   "metadata": {},
   "outputs": [],
   "source": [
    "df_var = pd.DataFrame(tmp, columns=['Stringency', 'SDI', 'Positive', 'Death'])"
   ]
  },
  {
   "cell_type": "code",
   "execution_count": 87,
   "metadata": {},
   "outputs": [
    {
     "data": {
      "text/html": [
       "<div>\n",
       "<style scoped>\n",
       "    .dataframe tbody tr th:only-of-type {\n",
       "        vertical-align: middle;\n",
       "    }\n",
       "\n",
       "    .dataframe tbody tr th {\n",
       "        vertical-align: top;\n",
       "    }\n",
       "\n",
       "    .dataframe thead th {\n",
       "        text-align: right;\n",
       "    }\n",
       "</style>\n",
       "<table border=\"1\" class=\"dataframe\">\n",
       "  <thead>\n",
       "    <tr style=\"text-align: right;\">\n",
       "      <th></th>\n",
       "      <th>Stringency</th>\n",
       "      <th>SDI</th>\n",
       "      <th>Positive</th>\n",
       "      <th>Death</th>\n",
       "    </tr>\n",
       "  </thead>\n",
       "  <tbody>\n",
       "    <tr>\n",
       "      <th>0</th>\n",
       "      <td>11.11</td>\n",
       "      <td>0.922593</td>\n",
       "      <td>0.0</td>\n",
       "      <td>0.0</td>\n",
       "    </tr>\n",
       "    <tr>\n",
       "      <th>1</th>\n",
       "      <td>11.11</td>\n",
       "      <td>-3.071594</td>\n",
       "      <td>0.0</td>\n",
       "      <td>0.0</td>\n",
       "    </tr>\n",
       "    <tr>\n",
       "      <th>2</th>\n",
       "      <td>11.11</td>\n",
       "      <td>-1.356729</td>\n",
       "      <td>0.0</td>\n",
       "      <td>0.0</td>\n",
       "    </tr>\n",
       "    <tr>\n",
       "      <th>3</th>\n",
       "      <td>11.11</td>\n",
       "      <td>1.529245</td>\n",
       "      <td>0.0</td>\n",
       "      <td>0.0</td>\n",
       "    </tr>\n",
       "    <tr>\n",
       "      <th>4</th>\n",
       "      <td>11.11</td>\n",
       "      <td>-0.117097</td>\n",
       "      <td>0.0</td>\n",
       "      <td>0.0</td>\n",
       "    </tr>\n",
       "    <tr>\n",
       "      <th>...</th>\n",
       "      <td>...</td>\n",
       "      <td>...</td>\n",
       "      <td>...</td>\n",
       "      <td>...</td>\n",
       "    </tr>\n",
       "    <tr>\n",
       "      <th>385</th>\n",
       "      <td>61.57</td>\n",
       "      <td>0.048992</td>\n",
       "      <td>92.0</td>\n",
       "      <td>-201.0</td>\n",
       "    </tr>\n",
       "    <tr>\n",
       "      <th>386</th>\n",
       "      <td>61.57</td>\n",
       "      <td>-0.158885</td>\n",
       "      <td>-2095.0</td>\n",
       "      <td>-47.0</td>\n",
       "    </tr>\n",
       "    <tr>\n",
       "      <th>387</th>\n",
       "      <td>61.57</td>\n",
       "      <td>-0.063153</td>\n",
       "      <td>-1218.0</td>\n",
       "      <td>-8.0</td>\n",
       "    </tr>\n",
       "    <tr>\n",
       "      <th>388</th>\n",
       "      <td>61.57</td>\n",
       "      <td>0.000000</td>\n",
       "      <td>1856.0</td>\n",
       "      <td>89.0</td>\n",
       "    </tr>\n",
       "    <tr>\n",
       "      <th>389</th>\n",
       "      <td>61.57</td>\n",
       "      <td>0.000000</td>\n",
       "      <td>-338.0</td>\n",
       "      <td>800.0</td>\n",
       "    </tr>\n",
       "  </tbody>\n",
       "</table>\n",
       "<p>390 rows × 4 columns</p>\n",
       "</div>"
      ],
      "text/plain": [
       "     Stringency       SDI  Positive  Death\n",
       "0         11.11  0.922593       0.0    0.0\n",
       "1         11.11 -3.071594       0.0    0.0\n",
       "2         11.11 -1.356729       0.0    0.0\n",
       "3         11.11  1.529245       0.0    0.0\n",
       "4         11.11 -0.117097       0.0    0.0\n",
       "..          ...       ...       ...    ...\n",
       "385       61.57  0.048992      92.0 -201.0\n",
       "386       61.57 -0.158885   -2095.0  -47.0\n",
       "387       61.57 -0.063153   -1218.0   -8.0\n",
       "388       61.57  0.000000    1856.0   89.0\n",
       "389       61.57  0.000000    -338.0  800.0\n",
       "\n",
       "[390 rows x 4 columns]"
      ]
     },
     "execution_count": 87,
     "metadata": {},
     "output_type": "execute_result"
    }
   ],
   "source": [
    "df_var"
   ]
  },
  {
   "cell_type": "code",
   "execution_count": 90,
   "metadata": {},
   "outputs": [
    {
     "name": "stderr",
     "output_type": "stream",
     "text": [
      "//anaconda3/lib/python3.7/site-packages/statsmodels/base/model.py:1834: ValueWarning: covariance of constraints does not have full rank. The number of constraints is 6, but rank is 1\n",
      "  'rank is %d' % (J, J_), ValueWarning)\n",
      "//anaconda3/lib/python3.7/site-packages/statsmodels/base/model.py:1834: ValueWarning: covariance of constraints does not have full rank. The number of constraints is 7, but rank is 3\n",
      "  'rank is %d' % (J, J_), ValueWarning)\n",
      "//anaconda3/lib/python3.7/site-packages/statsmodels/base/model.py:1834: ValueWarning: covariance of constraints does not have full rank. The number of constraints is 9, but rank is 2\n",
      "  'rank is %d' % (J, J_), ValueWarning)\n"
     ]
    },
    {
     "data": {
      "text/html": [
       "<div>\n",
       "<style scoped>\n",
       "    .dataframe tbody tr th:only-of-type {\n",
       "        vertical-align: middle;\n",
       "    }\n",
       "\n",
       "    .dataframe tbody tr th {\n",
       "        vertical-align: top;\n",
       "    }\n",
       "\n",
       "    .dataframe thead th {\n",
       "        text-align: right;\n",
       "    }\n",
       "</style>\n",
       "<table border=\"1\" class=\"dataframe\">\n",
       "  <thead>\n",
       "    <tr style=\"text-align: right;\">\n",
       "      <th></th>\n",
       "      <th>Stringency_x</th>\n",
       "      <th>SDI_x</th>\n",
       "      <th>Positive_x</th>\n",
       "      <th>Death_x</th>\n",
       "    </tr>\n",
       "  </thead>\n",
       "  <tbody>\n",
       "    <tr>\n",
       "      <th>Stringency_y</th>\n",
       "      <td>1.0000</td>\n",
       "      <td>0.0004</td>\n",
       "      <td>0.7255</td>\n",
       "      <td>0.8520</td>\n",
       "    </tr>\n",
       "    <tr>\n",
       "      <th>SDI_y</th>\n",
       "      <td>0.0000</td>\n",
       "      <td>1.0000</td>\n",
       "      <td>0.0143</td>\n",
       "      <td>0.2929</td>\n",
       "    </tr>\n",
       "    <tr>\n",
       "      <th>Positive_y</th>\n",
       "      <td>0.9310</td>\n",
       "      <td>0.0567</td>\n",
       "      <td>1.0000</td>\n",
       "      <td>0.0000</td>\n",
       "    </tr>\n",
       "    <tr>\n",
       "      <th>Death_y</th>\n",
       "      <td>0.9246</td>\n",
       "      <td>0.0052</td>\n",
       "      <td>0.0000</td>\n",
       "      <td>1.0000</td>\n",
       "    </tr>\n",
       "  </tbody>\n",
       "</table>\n",
       "</div>"
      ],
      "text/plain": [
       "              Stringency_x   SDI_x  Positive_x  Death_x\n",
       "Stringency_y        1.0000  0.0004      0.7255   0.8520\n",
       "SDI_y               0.0000  1.0000      0.0143   0.2929\n",
       "Positive_y          0.9310  0.0567      1.0000   0.0000\n",
       "Death_y             0.9246  0.0052      0.0000   1.0000"
      ]
     },
     "execution_count": 90,
     "metadata": {},
     "output_type": "execute_result"
    }
   ],
   "source": [
    "grangers_causality_matrix(df_var, variables = df_var.columns)"
   ]
  },
  {
   "cell_type": "code",
   "execution_count": 91,
   "metadata": {},
   "outputs": [],
   "source": [
    "from statsmodels.tsa.api import VAR"
   ]
  },
  {
   "cell_type": "code",
   "execution_count": 92,
   "metadata": {},
   "outputs": [
    {
     "name": "stdout",
     "output_type": "stream",
     "text": [
      "  Summary of Regression Results   \n",
      "==================================\n",
      "Model:                         VAR\n",
      "Method:                        OLS\n",
      "Date:           Wed, 03, Mar, 2021\n",
      "Time:                     11:36:25\n",
      "--------------------------------------------------------------------\n",
      "No. of Equations:         4.00000    BIC:                    27.7927\n",
      "Nobs:                     378.000    HQIC:                   26.5622\n",
      "Log likelihood:          -6816.64    FPE:                1.53697e+11\n",
      "AIC:                      25.7524    Det(Omega_mle):     9.43890e+10\n",
      "--------------------------------------------------------------------\n",
      "Results for equation Stringency\n",
      "=================================================================================\n",
      "                    coefficient       std. error           t-stat            prob\n",
      "---------------------------------------------------------------------------------\n",
      "const                  1.235923         0.355012            3.481           0.000\n",
      "L1.Stringency          1.148972         0.054851           20.947           0.000\n",
      "L1.SDI                 0.030220         0.070593            0.428           0.669\n",
      "L1.Positive            0.000009         0.000035            0.255           0.799\n",
      "L1.Death              -0.000514         0.001894           -0.271           0.786\n",
      "L2.Stringency         -0.157850         0.083167           -1.898           0.058\n",
      "L2.SDI                 0.074191         0.069784            1.063           0.288\n",
      "L2.Positive           -0.000019         0.000037           -0.521           0.602\n",
      "L2.Death              -0.000388         0.002259           -0.172           0.863\n",
      "L3.Stringency          0.062949         0.083129            0.757           0.449\n",
      "L3.SDI                -0.040343         0.068889           -0.586           0.558\n",
      "L3.Positive            0.000027         0.000038            0.704           0.481\n",
      "L3.Death              -0.001754         0.002478           -0.708           0.479\n",
      "L4.Stringency         -0.038251         0.082626           -0.463           0.643\n",
      "L4.SDI                -0.018497         0.070616           -0.262           0.793\n",
      "L4.Positive            0.000009         0.000039            0.219           0.826\n",
      "L4.Death              -0.001613         0.002649           -0.609           0.542\n",
      "L5.Stringency          0.214371         0.081731            2.623           0.009\n",
      "L5.SDI                -0.058122         0.070739           -0.822           0.411\n",
      "L5.Positive            0.000020         0.000038            0.535           0.593\n",
      "L5.Death              -0.000850         0.002641           -0.322           0.748\n",
      "L6.Stringency         -0.171250         0.081922           -2.090           0.037\n",
      "L6.SDI                 0.034157         0.068571            0.498           0.618\n",
      "L6.Positive            0.000014         0.000037            0.369           0.712\n",
      "L6.Death              -0.001072         0.002665           -0.402           0.688\n",
      "L7.Stringency         -0.147156         0.082367           -1.787           0.074\n",
      "L7.SDI                -0.028172         0.068120           -0.414           0.679\n",
      "L7.Positive            0.000021         0.000037            0.571           0.568\n",
      "L7.Death               0.000478         0.002680            0.178           0.858\n",
      "L8.Stringency          0.094929         0.081796            1.161           0.246\n",
      "L8.SDI                 0.131103         0.068872            1.904           0.057\n",
      "L8.Positive           -0.000019         0.000038           -0.504           0.614\n",
      "L8.Death              -0.000025         0.002659           -0.009           0.992\n",
      "L9.Stringency          0.073432         0.081983            0.896           0.370\n",
      "L9.SDI                -0.154695         0.069063           -2.240           0.025\n",
      "L9.Positive            0.000032         0.000038            0.830           0.407\n",
      "L9.Death               0.000246         0.002680            0.092           0.927\n",
      "L10.Stringency        -0.112961         0.082022           -1.377           0.168\n",
      "L10.SDI                0.096698         0.065433            1.478           0.139\n",
      "L10.Positive          -0.000022         0.000038           -0.566           0.571\n",
      "L10.Death              0.000780         0.002479            0.315           0.753\n",
      "L11.Stringency        -0.067857         0.081879           -0.829           0.407\n",
      "L11.SDI               -0.115055         0.066113           -1.740           0.082\n",
      "L11.Positive          -0.000009         0.000036           -0.252           0.801\n",
      "L11.Death              0.002017         0.002265            0.890           0.373\n",
      "L12.Stringency         0.081852         0.058165            1.407           0.159\n",
      "L12.SDI                0.095508         0.064233            1.487           0.137\n",
      "L12.Positive          -0.000020         0.000035           -0.562           0.574\n",
      "L12.Death              0.001347         0.001889            0.713           0.476\n",
      "=================================================================================\n",
      "\n",
      "Results for equation SDI\n",
      "=================================================================================\n",
      "                    coefficient       std. error           t-stat            prob\n",
      "---------------------------------------------------------------------------------\n",
      "const                  0.315545         0.285438            1.105           0.269\n",
      "L1.Stringency          0.094887         0.044102            2.152           0.031\n",
      "L1.SDI                 0.033110         0.056759            0.583           0.560\n",
      "L1.Positive           -0.000027         0.000028           -0.973           0.331\n",
      "L1.Death               0.000110         0.001523            0.072           0.943\n",
      "L2.Stringency          0.018104         0.066868            0.271           0.787\n",
      "L2.SDI                -0.085365         0.056108           -1.521           0.128\n",
      "L2.Positive           -0.000031         0.000029           -1.069           0.285\n",
      "L2.Death               0.003690         0.001817            2.031           0.042\n",
      "L3.Stringency         -0.059752         0.066837           -0.894           0.371\n",
      "L3.SDI                 0.143808         0.055388            2.596           0.009\n",
      "L3.Positive            0.000026         0.000031            0.845           0.398\n",
      "L3.Death               0.002603         0.001993            1.306           0.191\n",
      "L4.Stringency          0.049317         0.066434            0.742           0.458\n",
      "L4.SDI                 0.099201         0.056777            1.747           0.081\n",
      "L4.Positive           -0.000017         0.000031           -0.548           0.584\n",
      "L4.Death               0.000100         0.002130            0.047           0.963\n",
      "L5.Stringency         -0.032293         0.065714           -0.491           0.623\n",
      "L5.SDI                 0.121318         0.056876            2.133           0.033\n",
      "L5.Positive            0.000046         0.000031            1.491           0.136\n",
      "L5.Death              -0.001742         0.002124           -0.820           0.412\n",
      "L6.Stringency          0.042142         0.065867            0.640           0.522\n",
      "L6.SDI                 0.010891         0.055133            0.198           0.843\n",
      "L6.Positive            0.000051         0.000029            1.732           0.083\n",
      "L6.Death              -0.003497         0.002143           -1.632           0.103\n",
      "L7.Stringency         -0.021674         0.066225           -0.327           0.743\n",
      "L7.SDI                -0.234404         0.054770           -4.280           0.000\n",
      "L7.Positive           -0.000039         0.000030           -1.313           0.189\n",
      "L7.Death              -0.001503         0.002155           -0.697           0.486\n",
      "L8.Stringency         -0.037400         0.065766           -0.569           0.570\n",
      "L8.SDI                -0.033983         0.055374           -0.614           0.539\n",
      "L8.Positive           -0.000026         0.000031           -0.845           0.398\n",
      "L8.Death              -0.002815         0.002138           -1.317           0.188\n",
      "L9.Stringency          0.082131         0.065916            1.246           0.213\n",
      "L9.SDI                -0.087682         0.055528           -1.579           0.114\n",
      "L9.Positive            0.000052         0.000031            1.684           0.092\n",
      "L9.Death              -0.002831         0.002155           -1.314           0.189\n",
      "L10.Stringency        -0.050843         0.065947           -0.771           0.441\n",
      "L10.SDI                0.059102         0.052609            1.123           0.261\n",
      "L10.Positive          -0.000040         0.000031           -1.310           0.190\n",
      "L10.Death             -0.002431         0.001993           -1.220           0.223\n",
      "L11.Stringency        -0.067559         0.065833           -1.026           0.305\n",
      "L11.SDI               -0.037549         0.053156           -0.706           0.480\n",
      "L11.Positive           0.000033         0.000029            1.111           0.266\n",
      "L11.Death             -0.001813         0.001821           -0.996           0.319\n",
      "L12.Stringency        -0.021922         0.046766           -0.469           0.639\n",
      "L12.SDI                0.049892         0.051645            0.966           0.334\n",
      "L12.Positive           0.000026         0.000028            0.936           0.349\n",
      "L12.Death              0.001081         0.001519            0.712           0.477\n",
      "=================================================================================\n",
      "\n",
      "Results for equation Positive\n",
      "=================================================================================\n",
      "                    coefficient       std. error           t-stat            prob\n",
      "---------------------------------------------------------------------------------\n",
      "const                 89.479067       604.279273            0.148           0.882\n",
      "L1.Stringency        -43.714665        93.364127           -0.468           0.640\n",
      "L1.SDI              -246.286968       120.159496           -2.050           0.040\n",
      "L1.Positive           -0.353142         0.059152           -5.970           0.000\n",
      "L1.Death               9.175780         3.223223            2.847           0.004\n",
      "L2.Stringency        130.885309       141.561850            0.925           0.355\n",
      "L2.SDI                87.422574       118.782305            0.736           0.462\n",
      "L2.Positive           -0.406078         0.062346           -6.513           0.000\n",
      "L2.Death              10.661846         3.845765            2.772           0.006\n",
      "L3.Stringency        -15.724584       141.496364           -0.111           0.912\n",
      "L3.SDI              -225.599585       117.258705           -1.924           0.054\n",
      "L3.Positive           -0.205539         0.065496           -3.138           0.002\n",
      "L3.Death               7.072866         4.218330            1.677           0.094\n",
      "L4.Stringency        -79.359363       140.641509           -0.564           0.573\n",
      "L4.SDI                10.877041       120.197698            0.090           0.928\n",
      "L4.Positive           -0.161918         0.066060           -2.451           0.014\n",
      "L4.Death               5.460738         4.508338            1.211           0.226\n",
      "L5.Stringency         29.028804       139.117923            0.209           0.835\n",
      "L5.SDI                31.604849       120.407157            0.262           0.793\n",
      "L5.Positive            0.036292         0.065269            0.556           0.578\n",
      "L5.Death               2.951265         4.495571            0.656           0.512\n",
      "L6.Stringency         10.453269       139.442236            0.075           0.940\n",
      "L6.SDI                74.474308       116.717119            0.638           0.523\n",
      "L6.Positive            0.106248         0.062290            1.706           0.088\n",
      "L6.Death              -7.739099         4.535767           -1.706           0.088\n",
      "L7.Stringency        -44.413887       140.199356           -0.317           0.751\n",
      "L7.SDI               257.253389       115.949679            2.219           0.027\n",
      "L7.Positive            0.384376         0.062675            6.133           0.000\n",
      "L7.Death              -8.919670         4.562430           -1.955           0.051\n",
      "L8.Stringency          7.420406       139.228739            0.053           0.957\n",
      "L8.SDI               -10.783565       117.228824           -0.092           0.927\n",
      "L8.Positive            0.210176         0.065038            3.232           0.001\n",
      "L8.Death             -10.125806         4.525209           -2.238           0.025\n",
      "L9.Stringency         37.061435       139.545544            0.266           0.791\n",
      "L9.SDI               132.416889       117.554371            1.126           0.260\n",
      "L9.Positive            0.176752         0.065398            2.703           0.007\n",
      "L9.Death             -13.654258         4.562457           -2.993           0.003\n",
      "L10.Stringency         6.648451       139.612356            0.048           0.962\n",
      "L10.SDI             -303.585333       111.375275           -2.726           0.006\n",
      "L10.Positive           0.090747         0.064728            1.402           0.161\n",
      "L10.Death             -7.664953         4.219049           -1.817           0.069\n",
      "L11.Stringency       -22.044399       139.369035           -0.158           0.874\n",
      "L11.SDI               76.608678       112.532652            0.681           0.496\n",
      "L11.Positive           0.122053         0.062095            1.966           0.049\n",
      "L11.Death             -7.134729         3.855740           -1.850           0.064\n",
      "L12.Stringency       -17.108709        99.005145           -0.173           0.863\n",
      "L12.SDI              -90.744373       109.333586           -0.830           0.407\n",
      "L12.Positive          -0.040339         0.059348           -0.680           0.497\n",
      "L12.Death             -8.634616         3.215536           -2.685           0.007\n",
      "=================================================================================\n",
      "\n",
      "Results for equation Death\n",
      "=================================================================================\n",
      "                    coefficient       std. error           t-stat            prob\n",
      "---------------------------------------------------------------------------------\n",
      "const                  1.588152        12.934322            0.123           0.902\n",
      "L1.Stringency         -0.221080         1.998416           -0.111           0.912\n",
      "L1.SDI                -2.486040         2.571959           -0.967           0.334\n",
      "L1.Positive            0.000946         0.001266            0.747           0.455\n",
      "L1.Death              -0.587680         0.068992           -8.518           0.000\n",
      "L2.Stringency          1.119647         3.030067            0.370           0.712\n",
      "L2.SDI                 0.335460         2.542481            0.132           0.895\n",
      "L2.Positive           -0.000113         0.001334           -0.085           0.933\n",
      "L2.Death              -0.424581         0.082317           -5.158           0.000\n",
      "L3.Stringency          0.297535         3.028665            0.098           0.922\n",
      "L3.SDI                -6.936681         2.509869           -2.764           0.006\n",
      "L3.Positive            0.001267         0.001402            0.903           0.366\n",
      "L3.Death              -0.431202         0.090291           -4.776           0.000\n",
      "L4.Stringency         -1.070877         3.010367           -0.356           0.722\n",
      "L4.SDI                 3.673451         2.572777            1.428           0.153\n",
      "L4.Positive           -0.000174         0.001414           -0.123           0.902\n",
      "L4.Death              -0.366410         0.096499           -3.797           0.000\n",
      "L5.Stringency          1.084464         2.977756            0.364           0.716\n",
      "L5.SDI                 1.095802         2.577260            0.425           0.671\n",
      "L5.Positive            0.000816         0.001397            0.584           0.559\n",
      "L5.Death              -0.250383         0.096226           -2.602           0.009\n",
      "L6.Stringency         -1.818718         2.984697           -0.609           0.542\n",
      "L6.SDI                -2.831947         2.498277           -1.134           0.257\n",
      "L6.Positive           -0.000144         0.001333           -0.108           0.914\n",
      "L6.Death              -0.137826         0.097086           -1.420           0.156\n",
      "L7.Stringency          1.647368         3.000903            0.549           0.583\n",
      "L7.SDI                 0.344327         2.481850            0.139           0.890\n",
      "L7.Positive            0.002094         0.001342            1.561           0.119\n",
      "L7.Death               0.143286         0.097657            1.467           0.142\n",
      "L8.Stringency         -1.031480         2.980127           -0.346           0.729\n",
      "L8.SDI                 2.371564         2.509229            0.945           0.345\n",
      "L8.Positive            0.000421         0.001392            0.302           0.763\n",
      "L8.Death               0.356640         0.096860            3.682           0.000\n",
      "L9.Stringency          0.956844         2.986909            0.320           0.749\n",
      "L9.SDI                 3.954665         2.516198            1.572           0.116\n",
      "L9.Positive           -0.000718         0.001400           -0.513           0.608\n",
      "L9.Death              -0.119703         0.097657           -1.226           0.220\n",
      "L10.Stringency        -0.876550         2.988339           -0.293           0.769\n",
      "L10.SDI               -3.292564         2.383937           -1.381           0.167\n",
      "L10.Positive          -0.002647         0.001385           -1.911           0.056\n",
      "L10.Death             -0.117703         0.090307           -1.303           0.192\n",
      "L11.Stringency         1.002761         2.983130            0.336           0.737\n",
      "L11.SDI                0.440270         2.408710            0.183           0.855\n",
      "L11.Positive          -0.000832         0.001329           -0.626           0.531\n",
      "L11.Death              0.001097         0.082530            0.013           0.989\n",
      "L12.Stringency        -1.045943         2.119160           -0.494           0.622\n",
      "L12.SDI                0.656471         2.340235            0.281           0.779\n",
      "L12.Positive          -0.001951         0.001270           -1.536           0.125\n",
      "L12.Death             -0.341300         0.068827           -4.959           0.000\n",
      "=================================================================================\n",
      "\n",
      "Correlation matrix of residuals\n",
      "              Stringency       SDI  Positive     Death\n",
      "Stringency      1.000000  0.058787 -0.021946  0.003806\n",
      "SDI             0.058787  1.000000  0.220850  0.202818\n",
      "Positive       -0.021946  0.220850  1.000000  0.273131\n",
      "Death           0.003806  0.202818  0.273131  1.000000\n",
      "\n",
      "\n",
      "\n"
     ]
    }
   ],
   "source": [
    "mod = VAR(df_var)\n",
    "res = mod.fit(maxlags=14, ic='aic')\n",
    "print(res.summary())"
   ]
  },
  {
   "cell_type": "markdown",
   "metadata": {},
   "source": [
    "## Granger causality"
   ]
  },
  {
   "cell_type": "code",
   "execution_count": null,
   "metadata": {},
   "outputs": [],
   "source": []
  },
  {
   "cell_type": "code",
   "execution_count": null,
   "metadata": {},
   "outputs": [],
   "source": []
  },
  {
   "cell_type": "code",
   "execution_count": null,
   "metadata": {},
   "outputs": [],
   "source": []
  },
  {
   "cell_type": "code",
   "execution_count": null,
   "metadata": {},
   "outputs": [],
   "source": []
  },
  {
   "cell_type": "markdown",
   "metadata": {},
   "source": [
    "## Regression"
   ]
  },
  {
   "cell_type": "code",
   "execution_count": 5,
   "metadata": {},
   "outputs": [],
   "source": [
    "import statsmodels.api as sm\n",
    "from datetime import datetime, timedelta"
   ]
  },
  {
   "cell_type": "markdown",
   "metadata": {},
   "source": [
    "### Read data"
   ]
  },
  {
   "cell_type": "code",
   "execution_count": 31,
   "metadata": {},
   "outputs": [],
   "source": [
    "df = pd.read_csv('states_unstacked.csv')\n",
    "df.rename(columns={'Unnamed: 0': 'statefips'}, inplace=True)\n",
    "df = df[(df.date <= '2021-02-25') & (df.date >= '2020-03-07')]"
   ]
  },
  {
   "cell_type": "code",
   "execution_count": 32,
   "metadata": {},
   "outputs": [
    {
     "data": {
      "text/html": [
       "<div>\n",
       "<style scoped>\n",
       "    .dataframe tbody tr th:only-of-type {\n",
       "        vertical-align: middle;\n",
       "    }\n",
       "\n",
       "    .dataframe tbody tr th {\n",
       "        vertical-align: top;\n",
       "    }\n",
       "\n",
       "    .dataframe thead th {\n",
       "        text-align: right;\n",
       "    }\n",
       "</style>\n",
       "<table border=\"1\" class=\"dataframe\">\n",
       "  <thead>\n",
       "    <tr style=\"text-align: right;\">\n",
       "      <th></th>\n",
       "      <th>statefips</th>\n",
       "      <th>date</th>\n",
       "      <th>Stringency</th>\n",
       "      <th>positiveIncrease</th>\n",
       "      <th>deathIncrease</th>\n",
       "      <th>hospitalizedIncrease</th>\n",
       "      <th>totalTestsPeopleViralIncrease</th>\n",
       "    </tr>\n",
       "  </thead>\n",
       "  <tbody>\n",
       "    <tr>\n",
       "      <th>20136</th>\n",
       "      <td>56</td>\n",
       "      <td>2021-02-21</td>\n",
       "      <td>58.33</td>\n",
       "      <td>112.0</td>\n",
       "      <td>0.0</td>\n",
       "      <td>2.0</td>\n",
       "      <td>0.0</td>\n",
       "    </tr>\n",
       "    <tr>\n",
       "      <th>20137</th>\n",
       "      <td>56</td>\n",
       "      <td>2021-02-22</td>\n",
       "      <td>61.11</td>\n",
       "      <td>105.0</td>\n",
       "      <td>0.0</td>\n",
       "      <td>3.0</td>\n",
       "      <td>946.0</td>\n",
       "    </tr>\n",
       "    <tr>\n",
       "      <th>20138</th>\n",
       "      <td>56</td>\n",
       "      <td>2021-02-23</td>\n",
       "      <td>61.11</td>\n",
       "      <td>44.0</td>\n",
       "      <td>9.0</td>\n",
       "      <td>1.0</td>\n",
       "      <td>0.0</td>\n",
       "    </tr>\n",
       "    <tr>\n",
       "      <th>20139</th>\n",
       "      <td>56</td>\n",
       "      <td>2021-02-24</td>\n",
       "      <td>61.11</td>\n",
       "      <td>44.0</td>\n",
       "      <td>0.0</td>\n",
       "      <td>1.0</td>\n",
       "      <td>852.0</td>\n",
       "    </tr>\n",
       "    <tr>\n",
       "      <th>20140</th>\n",
       "      <td>56</td>\n",
       "      <td>2021-02-25</td>\n",
       "      <td>61.11</td>\n",
       "      <td>214.0</td>\n",
       "      <td>0.0</td>\n",
       "      <td>3.0</td>\n",
       "      <td>364.0</td>\n",
       "    </tr>\n",
       "  </tbody>\n",
       "</table>\n",
       "</div>"
      ],
      "text/plain": [
       "       statefips        date  Stringency  positiveIncrease  deathIncrease  \\\n",
       "20136         56  2021-02-21       58.33             112.0            0.0   \n",
       "20137         56  2021-02-22       61.11             105.0            0.0   \n",
       "20138         56  2021-02-23       61.11              44.0            9.0   \n",
       "20139         56  2021-02-24       61.11              44.0            0.0   \n",
       "20140         56  2021-02-25       61.11             214.0            0.0   \n",
       "\n",
       "       hospitalizedIncrease  totalTestsPeopleViralIncrease  \n",
       "20136                   2.0                            0.0  \n",
       "20137                   3.0                          946.0  \n",
       "20138                   1.0                            0.0  \n",
       "20139                   1.0                          852.0  \n",
       "20140                   3.0                          364.0  "
      ]
     },
     "execution_count": 32,
     "metadata": {},
     "output_type": "execute_result"
    }
   ],
   "source": [
    "df.tail()"
   ]
  },
  {
   "cell_type": "code",
   "execution_count": 33,
   "metadata": {},
   "outputs": [],
   "source": [
    "sdi = pd.read_csv('mobility_pca_only.csv', index_col=0)\n",
    "sdi.rename(columns={'Date':'date'}, inplace=True)\n",
    "sdi = sdi[(sdi.date <= '2021-02-25') & (sdi.date >= '2020-03-07')]"
   ]
  },
  {
   "cell_type": "code",
   "execution_count": 34,
   "metadata": {},
   "outputs": [
    {
     "data": {
      "text/html": [
       "<div>\n",
       "<style scoped>\n",
       "    .dataframe tbody tr th:only-of-type {\n",
       "        vertical-align: middle;\n",
       "    }\n",
       "\n",
       "    .dataframe tbody tr th {\n",
       "        vertical-align: top;\n",
       "    }\n",
       "\n",
       "    .dataframe thead th {\n",
       "        text-align: right;\n",
       "    }\n",
       "</style>\n",
       "<table border=\"1\" class=\"dataframe\">\n",
       "  <thead>\n",
       "    <tr style=\"text-align: right;\">\n",
       "      <th></th>\n",
       "      <th>statefips</th>\n",
       "      <th>statename</th>\n",
       "      <th>date</th>\n",
       "      <th>shadow_index_normalized</th>\n",
       "    </tr>\n",
       "  </thead>\n",
       "  <tbody>\n",
       "    <tr>\n",
       "      <th>19936</th>\n",
       "      <td>51</td>\n",
       "      <td>Virginia</td>\n",
       "      <td>2021-02-25</td>\n",
       "      <td>54.487582</td>\n",
       "    </tr>\n",
       "    <tr>\n",
       "      <th>19937</th>\n",
       "      <td>53</td>\n",
       "      <td>Washington</td>\n",
       "      <td>2021-02-25</td>\n",
       "      <td>33.655507</td>\n",
       "    </tr>\n",
       "    <tr>\n",
       "      <th>19938</th>\n",
       "      <td>54</td>\n",
       "      <td>West Virginia</td>\n",
       "      <td>2021-02-25</td>\n",
       "      <td>40.557192</td>\n",
       "    </tr>\n",
       "    <tr>\n",
       "      <th>19939</th>\n",
       "      <td>55</td>\n",
       "      <td>Wisconsin</td>\n",
       "      <td>2021-02-25</td>\n",
       "      <td>46.619273</td>\n",
       "    </tr>\n",
       "    <tr>\n",
       "      <th>19940</th>\n",
       "      <td>56</td>\n",
       "      <td>Wyoming</td>\n",
       "      <td>2021-02-25</td>\n",
       "      <td>42.436364</td>\n",
       "    </tr>\n",
       "  </tbody>\n",
       "</table>\n",
       "</div>"
      ],
      "text/plain": [
       "       statefips      statename        date  shadow_index_normalized\n",
       "19936         51       Virginia  2021-02-25                54.487582\n",
       "19937         53     Washington  2021-02-25                33.655507\n",
       "19938         54  West Virginia  2021-02-25                40.557192\n",
       "19939         55      Wisconsin  2021-02-25                46.619273\n",
       "19940         56        Wyoming  2021-02-25                42.436364"
      ]
     },
     "execution_count": 34,
     "metadata": {},
     "output_type": "execute_result"
    }
   ],
   "source": [
    "sdi.tail()"
   ]
  },
  {
   "cell_type": "code",
   "execution_count": 35,
   "metadata": {},
   "outputs": [],
   "source": [
    "rt = pd.read_csv('rt.csv')\n",
    "rt = rt[['date', 'region', 'mean']]\n",
    "rt.rename(columns={'region':'statefips', 'mean':'Rt'}, inplace=True)\n",
    "geomap = pd.read_csv('GeoIDs - State.csv')\n",
    "geomap.head()\n",
    "geodict = {}\n",
    "for i in range(len(geomap)):\n",
    "    geodict[geomap.iloc[i,2]] = (geomap.iloc[i,0])\n",
    "rt['statefips'] = rt['statefips'].apply(lambda x: geodict[x])\n",
    "rt = rt[(rt.date <= '2021-02-25') & (rt.date >= '2020-03-07')]"
   ]
  },
  {
   "cell_type": "code",
   "execution_count": 36,
   "metadata": {},
   "outputs": [
    {
     "data": {
      "text/html": [
       "<div>\n",
       "<style scoped>\n",
       "    .dataframe tbody tr th:only-of-type {\n",
       "        vertical-align: middle;\n",
       "    }\n",
       "\n",
       "    .dataframe tbody tr th {\n",
       "        vertical-align: top;\n",
       "    }\n",
       "\n",
       "    .dataframe thead th {\n",
       "        text-align: right;\n",
       "    }\n",
       "</style>\n",
       "<table border=\"1\" class=\"dataframe\">\n",
       "  <thead>\n",
       "    <tr style=\"text-align: right;\">\n",
       "      <th></th>\n",
       "      <th>date</th>\n",
       "      <th>statefips</th>\n",
       "      <th>Rt</th>\n",
       "    </tr>\n",
       "  </thead>\n",
       "  <tbody>\n",
       "    <tr>\n",
       "      <th>5</th>\n",
       "      <td>2020-03-07</td>\n",
       "      <td>23</td>\n",
       "      <td>1.322189</td>\n",
       "    </tr>\n",
       "    <tr>\n",
       "      <th>6</th>\n",
       "      <td>2020-03-08</td>\n",
       "      <td>23</td>\n",
       "      <td>1.313737</td>\n",
       "    </tr>\n",
       "    <tr>\n",
       "      <th>7</th>\n",
       "      <td>2020-03-09</td>\n",
       "      <td>23</td>\n",
       "      <td>1.304016</td>\n",
       "    </tr>\n",
       "    <tr>\n",
       "      <th>8</th>\n",
       "      <td>2020-03-10</td>\n",
       "      <td>23</td>\n",
       "      <td>1.288413</td>\n",
       "    </tr>\n",
       "    <tr>\n",
       "      <th>9</th>\n",
       "      <td>2020-03-11</td>\n",
       "      <td>23</td>\n",
       "      <td>1.274608</td>\n",
       "    </tr>\n",
       "  </tbody>\n",
       "</table>\n",
       "</div>"
      ],
      "text/plain": [
       "         date  statefips        Rt\n",
       "5  2020-03-07         23  1.322189\n",
       "6  2020-03-08         23  1.313737\n",
       "7  2020-03-09         23  1.304016\n",
       "8  2020-03-10         23  1.288413\n",
       "9  2020-03-11         23  1.274608"
      ]
     },
     "execution_count": 36,
     "metadata": {},
     "output_type": "execute_result"
    }
   ],
   "source": [
    "rt.head()"
   ]
  },
  {
   "cell_type": "code",
   "execution_count": 286,
   "metadata": {},
   "outputs": [
    {
     "data": {
      "text/plain": [
       "(array([6.648e+03, 9.114e+03, 4.200e+02, 2.180e+02, 1.280e+02, 5.100e+01,\n",
       "        2.900e+01, 1.100e+01, 3.000e+00, 2.000e+00]),\n",
       " array([0.64480378, 0.99687548, 1.34894718, 1.70101887, 2.05309057,\n",
       "        2.40516227, 2.75723397, 3.10930566, 3.46137736, 3.81344906,\n",
       "        4.16552076]),\n",
       " <BarContainer object of 10 artists>)"
      ]
     },
     "execution_count": 286,
     "metadata": {},
     "output_type": "execute_result"
    },
    {
     "data": {
      "image/png": "[encoded data removed]",
      "text/plain": [
       "<Figure size 432x288 with 1 Axes>"
      ]
     },
     "metadata": {
      "needs_background": "light"
     },
     "output_type": "display_data"
    }
   ],
   "source": [
    "plt.hist(rt.Rt)"
   ]
  },
  {
   "cell_type": "markdown",
   "metadata": {},
   "source": [
    "### Merge data"
   ]
  },
  {
   "cell_type": "code",
   "execution_count": 37,
   "metadata": {},
   "outputs": [],
   "source": [
    "df_merged = df.merge(sdi, on=['statefips', 'date'], how='left')"
   ]
  },
  {
   "cell_type": "code",
   "execution_count": 38,
   "metadata": {},
   "outputs": [
    {
     "data": {
      "text/plain": [
       "statefips                        0\n",
       "date                             0\n",
       "Stringency                       0\n",
       "positiveIncrease                 0\n",
       "deathIncrease                    0\n",
       "hospitalizedIncrease             0\n",
       "totalTestsPeopleViralIncrease    0\n",
       "statename                        0\n",
       "shadow_index_normalized          0\n",
       "dtype: int64"
      ]
     },
     "execution_count": 38,
     "metadata": {},
     "output_type": "execute_result"
    }
   ],
   "source": [
    "df_merged.isnull().sum()"
   ]
  },
  {
   "cell_type": "code",
   "execution_count": 39,
   "metadata": {},
   "outputs": [],
   "source": [
    "df_merged = df_merged.merge(rt, on=['statefips', 'date'], how='left')"
   ]
  },
  {
   "cell_type": "code",
   "execution_count": 40,
   "metadata": {},
   "outputs": [],
   "source": [
    "df_merged['date'] = pd.to_datetime(df_merged['date'])"
   ]
  },
  {
   "cell_type": "code",
   "execution_count": 41,
   "metadata": {},
   "outputs": [
    {
     "data": {
      "text/plain": [
       "statefips                           0\n",
       "date                                0\n",
       "Stringency                          0\n",
       "positiveIncrease                    0\n",
       "deathIncrease                       0\n",
       "hospitalizedIncrease                0\n",
       "totalTestsPeopleViralIncrease       0\n",
       "statename                           0\n",
       "shadow_index_normalized             0\n",
       "Rt                               1532\n",
       "dtype: int64"
      ]
     },
     "execution_count": 41,
     "metadata": {},
     "output_type": "execute_result"
    }
   ],
   "source": [
    "df_merged.isnull().sum()"
   ]
  },
  {
   "cell_type": "code",
   "execution_count": 42,
   "metadata": {},
   "outputs": [],
   "source": [
    "df_merged = df_merged.dropna()\n",
    "#df_merged['Rt'] = df_merged['Rt'].fillna(df_merged['Rt'].median())"
   ]
  },
  {
   "cell_type": "code",
   "execution_count": 43,
   "metadata": {},
   "outputs": [
    {
     "data": {
      "text/html": [
       "<div>\n",
       "<style scoped>\n",
       "    .dataframe tbody tr th:only-of-type {\n",
       "        vertical-align: middle;\n",
       "    }\n",
       "\n",
       "    .dataframe tbody tr th {\n",
       "        vertical-align: top;\n",
       "    }\n",
       "\n",
       "    .dataframe thead th {\n",
       "        text-align: right;\n",
       "    }\n",
       "</style>\n",
       "<table border=\"1\" class=\"dataframe\">\n",
       "  <thead>\n",
       "    <tr style=\"text-align: right;\">\n",
       "      <th></th>\n",
       "      <th>statefips</th>\n",
       "      <th>date</th>\n",
       "      <th>Stringency</th>\n",
       "      <th>positiveIncrease</th>\n",
       "      <th>deathIncrease</th>\n",
       "      <th>hospitalizedIncrease</th>\n",
       "      <th>totalTestsPeopleViralIncrease</th>\n",
       "      <th>statename</th>\n",
       "      <th>shadow_index_normalized</th>\n",
       "      <th>Rt</th>\n",
       "    </tr>\n",
       "  </thead>\n",
       "  <tbody>\n",
       "    <tr>\n",
       "      <th>18121</th>\n",
       "      <td>56</td>\n",
       "      <td>2021-01-22</td>\n",
       "      <td>66.67</td>\n",
       "      <td>159.0</td>\n",
       "      <td>21.0</td>\n",
       "      <td>3.0</td>\n",
       "      <td>0.0</td>\n",
       "      <td>Wyoming</td>\n",
       "      <td>38.312439</td>\n",
       "      <td>0.923943</td>\n",
       "    </tr>\n",
       "    <tr>\n",
       "      <th>18122</th>\n",
       "      <td>56</td>\n",
       "      <td>2021-01-23</td>\n",
       "      <td>66.67</td>\n",
       "      <td>0.0</td>\n",
       "      <td>0.0</td>\n",
       "      <td>0.0</td>\n",
       "      <td>0.0</td>\n",
       "      <td>Wyoming</td>\n",
       "      <td>41.131689</td>\n",
       "      <td>0.925517</td>\n",
       "    </tr>\n",
       "    <tr>\n",
       "      <th>18123</th>\n",
       "      <td>56</td>\n",
       "      <td>2021-01-24</td>\n",
       "      <td>66.67</td>\n",
       "      <td>315.0</td>\n",
       "      <td>0.0</td>\n",
       "      <td>8.0</td>\n",
       "      <td>0.0</td>\n",
       "      <td>Wyoming</td>\n",
       "      <td>40.648092</td>\n",
       "      <td>0.925426</td>\n",
       "    </tr>\n",
       "    <tr>\n",
       "      <th>18124</th>\n",
       "      <td>56</td>\n",
       "      <td>2021-01-25</td>\n",
       "      <td>66.67</td>\n",
       "      <td>164.0</td>\n",
       "      <td>0.0</td>\n",
       "      <td>5.0</td>\n",
       "      <td>0.0</td>\n",
       "      <td>Wyoming</td>\n",
       "      <td>41.151607</td>\n",
       "      <td>0.925535</td>\n",
       "    </tr>\n",
       "    <tr>\n",
       "      <th>18125</th>\n",
       "      <td>56</td>\n",
       "      <td>2021-01-26</td>\n",
       "      <td>66.67</td>\n",
       "      <td>90.0</td>\n",
       "      <td>25.0</td>\n",
       "      <td>1.0</td>\n",
       "      <td>2757.0</td>\n",
       "      <td>Wyoming</td>\n",
       "      <td>39.436469</td>\n",
       "      <td>0.928096</td>\n",
       "    </tr>\n",
       "  </tbody>\n",
       "</table>\n",
       "</div>"
      ],
      "text/plain": [
       "       statefips       date  Stringency  positiveIncrease  deathIncrease  \\\n",
       "18121         56 2021-01-22       66.67             159.0           21.0   \n",
       "18122         56 2021-01-23       66.67               0.0            0.0   \n",
       "18123         56 2021-01-24       66.67             315.0            0.0   \n",
       "18124         56 2021-01-25       66.67             164.0            0.0   \n",
       "18125         56 2021-01-26       66.67              90.0           25.0   \n",
       "\n",
       "       hospitalizedIncrease  totalTestsPeopleViralIncrease statename  \\\n",
       "18121                   3.0                            0.0   Wyoming   \n",
       "18122                   0.0                            0.0   Wyoming   \n",
       "18123                   8.0                            0.0   Wyoming   \n",
       "18124                   5.0                            0.0   Wyoming   \n",
       "18125                   1.0                         2757.0   Wyoming   \n",
       "\n",
       "       shadow_index_normalized        Rt  \n",
       "18121                38.312439  0.923943  \n",
       "18122                41.131689  0.925517  \n",
       "18123                40.648092  0.925426  \n",
       "18124                41.151607  0.925535  \n",
       "18125                39.436469  0.928096  "
      ]
     },
     "execution_count": 43,
     "metadata": {},
     "output_type": "execute_result"
    }
   ],
   "source": [
    "df_merged.tail()"
   ]
  },
  {
   "cell_type": "code",
   "execution_count": 45,
   "metadata": {},
   "outputs": [],
   "source": [
    "df_merged.to_csv('df_merged_analysis.csv')"
   ]
  },
  {
   "cell_type": "markdown",
   "metadata": {},
   "source": [
    "### Modeling"
   ]
  },
  {
   "cell_type": "code",
   "execution_count": 436,
   "metadata": {},
   "outputs": [
    {
     "data": {
      "text/plain": [
       "array([ 1,  2,  4,  5,  6,  8,  9, 10, 12, 13, 15, 16, 17, 18, 19, 20, 21,\n",
       "       22, 23, 24, 25, 26, 27, 28, 29, 30, 31, 32, 33, 34, 35, 36, 37, 38,\n",
       "       39, 40, 41, 42, 44, 45, 46, 47, 48, 49, 50, 51, 53, 11, 54, 55, 56])"
      ]
     },
     "execution_count": 436,
     "metadata": {},
     "output_type": "execute_result"
    }
   ],
   "source": [
    "df_merged.statefips.unique()"
   ]
  },
  {
   "cell_type": "code",
   "execution_count": 437,
   "metadata": {},
   "outputs": [],
   "source": [
    "state = 6  # look at CA for instance\n",
    "tmp = df_merged[df_merged.statefips==6]"
   ]
  },
  {
   "cell_type": "code",
   "execution_count": 438,
   "metadata": {},
   "outputs": [
    {
     "data": {
      "text/plain": [
       "(326, 10)"
      ]
     },
     "execution_count": 438,
     "metadata": {},
     "output_type": "execute_result"
    }
   ],
   "source": [
    "tmp.shape"
   ]
  },
  {
   "cell_type": "code",
   "execution_count": 439,
   "metadata": {},
   "outputs": [
    {
     "data": {
      "text/plain": [
       "Text(0, 0.5, 'Rt')"
      ]
     },
     "execution_count": 439,
     "metadata": {},
     "output_type": "execute_result"
    },
    {
     "data": {
      "image/png": "[encoded data removed]",
      "text/plain": [
       "<Figure size 432x288 with 1 Axes>"
      ]
     },
     "metadata": {
      "needs_background": "light"
     },
     "output_type": "display_data"
    }
   ],
   "source": [
    "plt.plot(tmp.Rt)\n",
    "plt.xlabel('time')\n",
    "plt.ylabel('Rt')"
   ]
  },
  {
   "cell_type": "code",
   "execution_count": 440,
   "metadata": {},
   "outputs": [
    {
     "data": {
      "text/plain": [
       "<matplotlib.collections.PathCollection at 0x1a49fc2550>"
      ]
     },
     "execution_count": 440,
     "metadata": {},
     "output_type": "execute_result"
    },
    {
     "data": {
      "image/png": "[encoded data removed]",
      "text/plain": [
       "<Figure size 864x288 with 3 Axes>"
      ]
     },
     "metadata": {
      "needs_background": "light"
     },
     "output_type": "display_data"
    }
   ],
   "source": [
    "Lag = 14\n",
    "plt.figure(figsize=(12,4))\n",
    "plt.subplot(1,3,1)\n",
    "plt.scatter(tmp.Rt[:-Lag], tmp.Rt[Lag:])\n",
    "plt.subplot(1,3,2)\n",
    "plt.scatter(tmp.shadow_index_normalized[:-Lag], tmp.Rt[Lag:])\n",
    "plt.subplot(1,3,3)\n",
    "plt.scatter(tmp.Stringency[:-Lag], tmp.Rt[Lag:])"
   ]
  },
  {
   "cell_type": "code",
   "execution_count": 441,
   "metadata": {},
   "outputs": [
    {
     "data": {
      "text/plain": [
       "<matplotlib.collections.PathCollection at 0x1a4a30f290>"
      ]
     },
     "execution_count": 441,
     "metadata": {},
     "output_type": "execute_result"
    },
    {
     "data": {
      "image/png": "[encoded data removed]",
      "text/plain": [
       "<Figure size 864x288 with 3 Axes>"
      ]
     },
     "metadata": {
      "needs_background": "light"
     },
     "output_type": "display_data"
    }
   ],
   "source": [
    "Lag = 14\n",
    "plt.figure(figsize=(12,4))\n",
    "plt.subplot(1,3,1)\n",
    "plt.scatter(tmp.positiveIncrease[:-Lag], tmp.positiveIncrease[Lag:])\n",
    "plt.subplot(1,3,2)\n",
    "plt.scatter(tmp.shadow_index_normalized[:-Lag], tmp.positiveIncrease[Lag:])\n",
    "plt.subplot(1,3,3)\n",
    "plt.scatter(tmp.Stringency[:-Lag], tmp.positiveIncrease[Lag:])"
   ]
  },
  {
   "cell_type": "code",
   "execution_count": 442,
   "metadata": {},
   "outputs": [
    {
     "data": {
      "text/plain": [
       "(302, 11)"
      ]
     },
     "execution_count": 442,
     "metadata": {},
     "output_type": "execute_result"
    }
   ],
   "source": [
    "### Growth rate a dependent variable\n",
    "longLag = 25\n",
    "shortLag = 3\n",
    "\n",
    "tmp = tmp.assign(**{'newPositiveFraction':(tmp['positiveIncrease'].rolling(shortLag).sum()/tmp['positiveIncrease'].rolling(longLag).sum()).values})\n",
    "tmp.dropna(inplace=True)\n",
    "tmp.shape\n"
   ]
  },
  {
   "cell_type": "code",
   "execution_count": 443,
   "metadata": {},
   "outputs": [
    {
     "data": {
      "text/plain": [
       "Text(0, 0.5, 'custom growth rate')"
      ]
     },
     "execution_count": 443,
     "metadata": {},
     "output_type": "execute_result"
    },
    {
     "data": {
      "image/png": "[encoded data removed]",
      "text/plain": [
       "<Figure size 432x288 with 1 Axes>"
      ]
     },
     "metadata": {
      "needs_background": "light"
     },
     "output_type": "display_data"
    }
   ],
   "source": [
    "plt.plot(tmp['newPositiveFraction'])\n",
    "plt.xlabel('time')\n",
    "plt.ylabel('custom growth rate')"
   ]
  },
  {
   "cell_type": "code",
   "execution_count": 444,
   "metadata": {},
   "outputs": [
    {
     "name": "stdout",
     "output_type": "stream",
     "text": [
      "(0.4260482408106027, 9.52225813708788e-15)\n",
      "(-0.06277263209210468, 0.2883712729582415)\n",
      "(-0.07588672327859389, 0.19910977567488314)\n",
      "(0.8745686545933677, 2.6115440573594878e-96)\n",
      "SpearmanrResult(correlation=0.4732902433716563, pvalue=2.897303745319935e-18)\n",
      "SpearmanrResult(correlation=-0.2546804231018089, pvalue=1.2107730339338288e-05)\n",
      "SpearmanrResult(correlation=-0.22126501045820962, pvalue=0.0001532827929457515)\n",
      "SpearmanrResult(correlation=0.639052384633963, pvalue=4.581141208951763e-36)\n"
     ]
    }
   ],
   "source": [
    "# correlations\n",
    "print(pearsonr(tmp['Rt'], tmp['newPositiveFraction']))\n",
    "Lag = 14\n",
    "print(pearsonr(tmp['Rt'][Lag:], tmp['shadow_index_normalized'][:-Lag]))\n",
    "print(pearsonr(tmp['Rt'][Lag:], tmp['Stringency'][:-Lag]))\n",
    "print(pearsonr(tmp['Stringency'], tmp['shadow_index_normalized']))\n",
    "\n",
    "print(spearmanr(tmp['Rt'], tmp['newPositiveFraction']))\n",
    "print(spearmanr(tmp['Rt'][Lag:], tmp['shadow_index_normalized'][:-Lag]))\n",
    "print(spearmanr(tmp['Rt'][Lag:], tmp['Stringency'][:-Lag]))\n",
    "print(spearmanr(tmp['Stringency'], tmp['shadow_index_normalized']))"
   ]
  },
  {
   "cell_type": "code",
   "execution_count": 445,
   "metadata": {},
   "outputs": [
    {
     "name": "stdout",
     "output_type": "stream",
     "text": [
      "(0.4260482408106027, 9.52225813708788e-15)\n",
      "(-0.07948765889662726, 0.17855640632219227)\n",
      "(-0.1400404648758244, 0.01740874120986648)\n",
      "(0.8745686545933677, 2.6115440573594878e-96)\n",
      "SpearmanrResult(correlation=0.4732902433716563, pvalue=2.897303745319935e-18)\n",
      "SpearmanrResult(correlation=-0.19885443416965065, pvalue=0.0006889166455252198)\n",
      "SpearmanrResult(correlation=-0.1665096358055083, pvalue=0.004607322232079685)\n",
      "SpearmanrResult(correlation=0.639052384633963, pvalue=4.581141208951763e-36)\n"
     ]
    }
   ],
   "source": [
    "# correlations\n",
    "print(pearsonr(tmp['Rt'], tmp['newPositiveFraction']))\n",
    "Lag = 14\n",
    "print(pearsonr(tmp['newPositiveFraction'][Lag:], tmp['shadow_index_normalized'][:-Lag]))\n",
    "print(pearsonr(tmp['newPositiveFraction'][Lag:], tmp['Stringency'][:-Lag]))\n",
    "print(pearsonr(tmp['Stringency'], tmp['shadow_index_normalized']))\n",
    "\n",
    "print(spearmanr(tmp['Rt'], tmp['newPositiveFraction']))\n",
    "print(spearmanr(tmp['newPositiveFraction'][Lag:], tmp['shadow_index_normalized'][:-Lag]))\n",
    "print(spearmanr(tmp['newPositiveFraction'][Lag:], tmp['Stringency'][:-Lag]))\n",
    "print(spearmanr(tmp['Stringency'], tmp['shadow_index_normalized']))"
   ]
  },
  {
   "cell_type": "code",
   "execution_count": 446,
   "metadata": {},
   "outputs": [
    {
     "name": "stdout",
     "output_type": "stream",
     "text": [
      "                                 OLS Regression Results                                 \n",
      "========================================================================================\n",
      "Dep. Variable:     newPositiveFraction   R-squared (uncentered):                   0.915\n",
      "Model:                             OLS   Adj. R-squared (uncentered):              0.915\n",
      "Method:                  Least Squares   F-statistic:                              3096.\n",
      "Date:                 Wed, 03 Mar 2021   Prob (F-statistic):                   8.75e-156\n",
      "Time:                         22:38:24   Log-Likelihood:                          507.95\n",
      "No. Observations:                  288   AIC:                                     -1014.\n",
      "Df Residuals:                      287   BIC:                                     -1010.\n",
      "Df Model:                            1                                                  \n",
      "Covariance Type:             nonrobust                                                  \n",
      "=======================================================================================\n",
      "                          coef    std err          t      P>|t|      [0.025      0.975]\n",
      "---------------------------------------------------------------------------------------\n",
      "newPositiveFraction     0.8954      0.016     55.642      0.000       0.864       0.927\n",
      "==============================================================================\n",
      "Omnibus:                       88.204   Durbin-Watson:                   0.165\n",
      "Prob(Omnibus):                  0.000   Jarque-Bera (JB):              319.956\n",
      "Skew:                          -1.276   Prob(JB):                     3.33e-70\n",
      "Kurtosis:                       7.489   Cond. No.                         1.00\n",
      "==============================================================================\n",
      "\n",
      "Notes:\n",
      "[1] R² is computed without centering (uncentered) since the model does not contain a constant.\n",
      "[2] Standard Errors assume that the covariance matrix of the errors is correctly specified.\n"
     ]
    }
   ],
   "source": [
    "Lag = 14\n",
    "Y = tmp['newPositiveFraction'][Lag:]\n",
    "\n",
    "X_baseline = tmp[['newPositiveFraction']][:-Lag]\n",
    "Y.index = list(range(len(Y)))\n",
    "X_baseline.index = list(range(len(X_baseline)))\n",
    "model = sm.OLS(Y, X_baseline).fit()\n",
    "predictions = model.predict(X_baseline) \n",
    "\n",
    "print_model = model.summary()\n",
    "print(print_model)"
   ]
  },
  {
   "cell_type": "code",
   "execution_count": 447,
   "metadata": {},
   "outputs": [
    {
     "name": "stdout",
     "output_type": "stream",
     "text": [
      "                                 OLS Regression Results                                 \n",
      "========================================================================================\n",
      "Dep. Variable:     newPositiveFraction   R-squared (uncentered):                   0.928\n",
      "Model:                             OLS   Adj. R-squared (uncentered):              0.928\n",
      "Method:                  Least Squares   F-statistic:                              1847.\n",
      "Date:                 Wed, 03 Mar 2021   Prob (F-statistic):                   2.99e-164\n",
      "Time:                         22:38:32   Log-Likelihood:                          531.85\n",
      "No. Observations:                  288   AIC:                                     -1060.\n",
      "Df Residuals:                      286   BIC:                                     -1052.\n",
      "Df Model:                            2                                                  \n",
      "Covariance Type:             nonrobust                                                  \n",
      "===========================================================================================\n",
      "                              coef    std err          t      P>|t|      [0.025      0.975]\n",
      "-------------------------------------------------------------------------------------------\n",
      "newPositiveFraction         0.5548      0.050     11.172      0.000       0.457       0.653\n",
      "shadow_index_normalized     0.0009      0.000      7.187      0.000       0.001       0.001\n",
      "==============================================================================\n",
      "Omnibus:                       19.496   Durbin-Watson:                   0.141\n",
      "Prob(Omnibus):                  0.000   Jarque-Bera (JB):               35.593\n",
      "Skew:                          -0.385   Prob(JB):                     1.87e-08\n",
      "Kurtosis:                       4.540   Cond. No.                     1.30e+03\n",
      "==============================================================================\n",
      "\n",
      "Notes:\n",
      "[1] R² is computed without centering (uncentered) since the model does not contain a constant.\n",
      "[2] Standard Errors assume that the covariance matrix of the errors is correctly specified.\n",
      "[3] The condition number is large, 1.3e+03. This might indicate that there are\n",
      "strong multicollinearity or other numerical problems.\n"
     ]
    }
   ],
   "source": [
    "Lag = 14\n",
    "Y = tmp['newPositiveFraction'][Lag:]\n",
    "\n",
    "X_improved = tmp[['newPositiveFraction', 'shadow_index_normalized']].iloc[:-Lag,:]\n",
    "Y.index = list(range(len(Y)))\n",
    "X_improved.index = list(range(len(X_improved)))\n",
    "model = sm.OLS(Y, X_improved).fit()\n",
    "predictions = model.predict(X_improved) \n",
    "\n",
    "print_model = model.summary()\n",
    "print(print_model)"
   ]
  },
  {
   "cell_type": "markdown",
   "metadata": {},
   "source": [
    "#### Predicting positiveIncrease 7 days ahead"
   ]
  },
  {
   "cell_type": "code",
   "execution_count": 360,
   "metadata": {},
   "outputs": [
    {
     "data": {
      "text/plain": [
       "<AxesSubplot:>"
      ]
     },
     "execution_count": 360,
     "metadata": {},
     "output_type": "execute_result"
    },
    {
     "data": {
      "image/png": "[encoded data removed]",
      "text/plain": [
       "<Figure size 432x288 with 1 Axes>"
      ]
     },
     "metadata": {
      "needs_background": "light"
     },
     "output_type": "display_data"
    }
   ],
   "source": [
    "tmp['positiveIncrease'].plot()"
   ]
  },
  {
   "cell_type": "code",
   "execution_count": 370,
   "metadata": {},
   "outputs": [
    {
     "name": "stdout",
     "output_type": "stream",
     "text": [
      "                                 OLS Regression Results                                \n",
      "=======================================================================================\n",
      "Dep. Variable:       positiveIncrease   R-squared (uncentered):                   0.817\n",
      "Model:                            OLS   Adj. R-squared (uncentered):              0.817\n",
      "Method:                 Least Squares   F-statistic:                              1390.\n",
      "Date:                Wed, 03 Mar 2021   Prob (F-statistic):                   9.15e-117\n",
      "Time:                        20:51:24   Log-Likelihood:                         -3199.4\n",
      "No. Observations:                 312   AIC:                                      6401.\n",
      "Df Residuals:                     311   BIC:                                      6405.\n",
      "Df Model:                           1                                                  \n",
      "Covariance Type:            nonrobust                                                  \n",
      "====================================================================================\n",
      "                       coef    std err          t      P>|t|      [0.025      0.975]\n",
      "------------------------------------------------------------------------------------\n",
      "positiveIncrease     0.9851      0.026     37.278      0.000       0.933       1.037\n",
      "==============================================================================\n",
      "Omnibus:                       62.911   Durbin-Watson:                   0.428\n",
      "Prob(Omnibus):                  0.000   Jarque-Bera (JB):              757.290\n",
      "Skew:                           0.349   Prob(JB):                    3.60e-165\n",
      "Kurtosis:                      10.600   Cond. No.                         1.00\n",
      "==============================================================================\n",
      "\n",
      "Notes:\n",
      "[1] R² is computed without centering (uncentered) since the model does not contain a constant.\n",
      "[2] Standard Errors assume that the covariance matrix of the errors is correctly specified.\n"
     ]
    }
   ],
   "source": [
    "Lag = 14\n",
    "Y = tmp['positiveIncrease'][Lag:]\n",
    "\n",
    "X_baseline = tmp['positiveIncrease'][:-Lag]\n",
    "Y.index = list(range(len(Y)))\n",
    "X_baseline.index = list(range(len(X_baseline)))\n",
    "model = sm.OLS(Y, X_baseline).fit()\n",
    "predictions = model.predict(X_baseline) \n",
    "\n",
    "print_model = model.summary()\n",
    "print(print_model)"
   ]
  },
  {
   "cell_type": "code",
   "execution_count": 365,
   "metadata": {},
   "outputs": [
    {
     "data": {
      "text/plain": [
       "<matplotlib.collections.PathCollection at 0x1a48f99550>"
      ]
     },
     "execution_count": 365,
     "metadata": {},
     "output_type": "execute_result"
    },
    {
     "data": {
      "image/png": "[encoded data removed]",
      "text/plain": [
       "<Figure size 432x288 with 1 Axes>"
      ]
     },
     "metadata": {
      "needs_background": "light"
     },
     "output_type": "display_data"
    }
   ],
   "source": [
    "plt.scatter(X_baseline,Y)"
   ]
  },
  {
   "cell_type": "code",
   "execution_count": 367,
   "metadata": {},
   "outputs": [
    {
     "name": "stdout",
     "output_type": "stream",
     "text": [
      "                                 OLS Regression Results                                \n",
      "=======================================================================================\n",
      "Dep. Variable:       positiveIncrease   R-squared (uncentered):                   0.825\n",
      "Model:                            OLS   Adj. R-squared (uncentered):              0.824\n",
      "Method:                 Least Squares   F-statistic:                              731.1\n",
      "Date:                Wed, 03 Mar 2021   Prob (F-statistic):                   4.41e-118\n",
      "Time:                        20:49:47   Log-Likelihood:                         -3192.5\n",
      "No. Observations:                 312   AIC:                                      6389.\n",
      "Df Residuals:                     310   BIC:                                      6397.\n",
      "Df Model:                           2                                                  \n",
      "Covariance Type:            nonrobust                                                  \n",
      "===========================================================================================\n",
      "                              coef    std err          t      P>|t|      [0.025      0.975]\n",
      "-------------------------------------------------------------------------------------------\n",
      "positiveIncrease            0.9165      0.032     28.911      0.000       0.854       0.979\n",
      "shadow_index_normalized    30.0074      8.001      3.750      0.000      14.264      45.751\n",
      "==============================================================================\n",
      "Omnibus:                       88.972   Durbin-Watson:                   0.421\n",
      "Prob(Omnibus):                  0.000   Jarque-Bera (JB):              669.405\n",
      "Skew:                           0.940   Prob(JB):                    4.37e-146\n",
      "Kurtosis:                       9.925   Cond. No.                         309.\n",
      "==============================================================================\n",
      "\n",
      "Notes:\n",
      "[1] R² is computed without centering (uncentered) since the model does not contain a constant.\n",
      "[2] Standard Errors assume that the covariance matrix of the errors is correctly specified.\n"
     ]
    }
   ],
   "source": [
    "Lag = 14\n",
    "Y = tmp['positiveIncrease'][Lag:]\n",
    "\n",
    "X_improved = tmp[['positiveIncrease', 'shadow_index_normalized']].iloc[:-Lag,:]\n",
    "Y.index = list(range(len(Y)))\n",
    "X_improved.index = list(range(len(X_improved)))\n",
    "model = sm.OLS(Y, X_improved).fit()\n",
    "predictions = model.predict(X_improved) \n",
    "\n",
    "print_model = model.summary()\n",
    "print(print_model)"
   ]
  },
  {
   "cell_type": "markdown",
   "metadata": {},
   "source": [
    "### All states together"
   ]
  },
  {
   "cell_type": "code",
   "execution_count": 52,
   "metadata": {},
   "outputs": [],
   "source": [
    "from statsmodels.formula.api import ols"
   ]
  },
  {
   "cell_type": "code",
   "execution_count": 152,
   "metadata": {},
   "outputs": [],
   "source": [
    "df_merged = pd.read_csv('df_merged_analysis.csv', index_col=0)"
   ]
  },
  {
   "cell_type": "code",
   "execution_count": 153,
   "metadata": {},
   "outputs": [
    {
     "data": {
      "text/html": [
       "<div>\n",
       "<style scoped>\n",
       "    .dataframe tbody tr th:only-of-type {\n",
       "        vertical-align: middle;\n",
       "    }\n",
       "\n",
       "    .dataframe tbody tr th {\n",
       "        vertical-align: top;\n",
       "    }\n",
       "\n",
       "    .dataframe thead th {\n",
       "        text-align: right;\n",
       "    }\n",
       "</style>\n",
       "<table border=\"1\" class=\"dataframe\">\n",
       "  <thead>\n",
       "    <tr style=\"text-align: right;\">\n",
       "      <th></th>\n",
       "      <th>statefips</th>\n",
       "      <th>date</th>\n",
       "      <th>Stringency</th>\n",
       "      <th>positiveIncrease</th>\n",
       "      <th>deathIncrease</th>\n",
       "      <th>hospitalizedIncrease</th>\n",
       "      <th>totalTestsPeopleViralIncrease</th>\n",
       "      <th>statename</th>\n",
       "      <th>shadow_index_normalized</th>\n",
       "      <th>Rt</th>\n",
       "      <th>ContainmentHealthIndex</th>\n",
       "    </tr>\n",
       "  </thead>\n",
       "  <tbody>\n",
       "    <tr>\n",
       "      <th>0</th>\n",
       "      <td>1</td>\n",
       "      <td>2020-03-07</td>\n",
       "      <td>8.33</td>\n",
       "      <td>0.0</td>\n",
       "      <td>0.0</td>\n",
       "      <td>0.0</td>\n",
       "      <td>0.0</td>\n",
       "      <td>Alabama</td>\n",
       "      <td>7.647214</td>\n",
       "      <td>2.058230</td>\n",
       "      <td>14.74</td>\n",
       "    </tr>\n",
       "    <tr>\n",
       "      <th>1</th>\n",
       "      <td>1</td>\n",
       "      <td>2020-03-08</td>\n",
       "      <td>8.33</td>\n",
       "      <td>0.0</td>\n",
       "      <td>0.0</td>\n",
       "      <td>0.0</td>\n",
       "      <td>0.0</td>\n",
       "      <td>Alabama</td>\n",
       "      <td>6.104251</td>\n",
       "      <td>2.035865</td>\n",
       "      <td>14.74</td>\n",
       "    </tr>\n",
       "    <tr>\n",
       "      <th>2</th>\n",
       "      <td>1</td>\n",
       "      <td>2020-03-09</td>\n",
       "      <td>8.33</td>\n",
       "      <td>0.0</td>\n",
       "      <td>0.0</td>\n",
       "      <td>0.0</td>\n",
       "      <td>0.0</td>\n",
       "      <td>Alabama</td>\n",
       "      <td>7.227147</td>\n",
       "      <td>2.005499</td>\n",
       "      <td>14.74</td>\n",
       "    </tr>\n",
       "    <tr>\n",
       "      <th>3</th>\n",
       "      <td>1</td>\n",
       "      <td>2020-03-10</td>\n",
       "      <td>16.67</td>\n",
       "      <td>0.0</td>\n",
       "      <td>0.0</td>\n",
       "      <td>0.0</td>\n",
       "      <td>0.0</td>\n",
       "      <td>Alabama</td>\n",
       "      <td>6.999156</td>\n",
       "      <td>1.978277</td>\n",
       "      <td>20.51</td>\n",
       "    </tr>\n",
       "    <tr>\n",
       "      <th>4</th>\n",
       "      <td>1</td>\n",
       "      <td>2020-03-11</td>\n",
       "      <td>16.67</td>\n",
       "      <td>0.0</td>\n",
       "      <td>0.0</td>\n",
       "      <td>0.0</td>\n",
       "      <td>10.0</td>\n",
       "      <td>Alabama</td>\n",
       "      <td>6.644607</td>\n",
       "      <td>1.939723</td>\n",
       "      <td>20.51</td>\n",
       "    </tr>\n",
       "  </tbody>\n",
       "</table>\n",
       "</div>"
      ],
      "text/plain": [
       "   statefips        date  Stringency  positiveIncrease  deathIncrease  \\\n",
       "0          1  2020-03-07        8.33               0.0            0.0   \n",
       "1          1  2020-03-08        8.33               0.0            0.0   \n",
       "2          1  2020-03-09        8.33               0.0            0.0   \n",
       "3          1  2020-03-10       16.67               0.0            0.0   \n",
       "4          1  2020-03-11       16.67               0.0            0.0   \n",
       "\n",
       "   hospitalizedIncrease  totalTestsPeopleViralIncrease statename  \\\n",
       "0                   0.0                            0.0   Alabama   \n",
       "1                   0.0                            0.0   Alabama   \n",
       "2                   0.0                            0.0   Alabama   \n",
       "3                   0.0                            0.0   Alabama   \n",
       "4                   0.0                           10.0   Alabama   \n",
       "\n",
       "   shadow_index_normalized        Rt  ContainmentHealthIndex  \n",
       "0                 7.647214  2.058230                   14.74  \n",
       "1                 6.104251  2.035865                   14.74  \n",
       "2                 7.227147  2.005499                   14.74  \n",
       "3                 6.999156  1.978277                   20.51  \n",
       "4                 6.644607  1.939723                   20.51  "
      ]
     },
     "execution_count": 153,
     "metadata": {},
     "output_type": "execute_result"
    }
   ],
   "source": [
    "df_merged.head()"
   ]
  },
  {
   "cell_type": "code",
   "execution_count": 154,
   "metadata": {},
   "outputs": [
    {
     "data": {
      "text/plain": [
       "(16624, 11)"
      ]
     },
     "execution_count": 154,
     "metadata": {},
     "output_type": "execute_result"
    }
   ],
   "source": [
    "df_merged.shape"
   ]
  },
  {
   "cell_type": "code",
   "execution_count": 147,
   "metadata": {},
   "outputs": [
    {
     "data": {
      "text/html": [
       "<div>\n",
       "<style scoped>\n",
       "    .dataframe tbody tr th:only-of-type {\n",
       "        vertical-align: middle;\n",
       "    }\n",
       "\n",
       "    .dataframe tbody tr th {\n",
       "        vertical-align: top;\n",
       "    }\n",
       "\n",
       "    .dataframe thead th {\n",
       "        text-align: right;\n",
       "    }\n",
       "</style>\n",
       "<table border=\"1\" class=\"dataframe\">\n",
       "  <thead>\n",
       "    <tr style=\"text-align: right;\">\n",
       "      <th></th>\n",
       "      <th>date</th>\n",
       "      <th>statefips</th>\n",
       "      <th>ContainmentHealthIndex</th>\n",
       "    </tr>\n",
       "  </thead>\n",
       "  <tbody>\n",
       "    <tr>\n",
       "      <th>0</th>\n",
       "      <td>2020-02-01</td>\n",
       "      <td>1</td>\n",
       "      <td>6.41</td>\n",
       "    </tr>\n",
       "    <tr>\n",
       "      <th>1</th>\n",
       "      <td>2020-02-01</td>\n",
       "      <td>2</td>\n",
       "      <td>10.26</td>\n",
       "    </tr>\n",
       "    <tr>\n",
       "      <th>2</th>\n",
       "      <td>2020-02-01</td>\n",
       "      <td>4</td>\n",
       "      <td>10.26</td>\n",
       "    </tr>\n",
       "    <tr>\n",
       "      <th>3</th>\n",
       "      <td>2020-02-01</td>\n",
       "      <td>5</td>\n",
       "      <td>6.41</td>\n",
       "    </tr>\n",
       "    <tr>\n",
       "      <th>4</th>\n",
       "      <td>2020-02-01</td>\n",
       "      <td>6</td>\n",
       "      <td>8.33</td>\n",
       "    </tr>\n",
       "  </tbody>\n",
       "</table>\n",
       "</div>"
      ],
      "text/plain": [
       "         date  statefips  ContainmentHealthIndex\n",
       "0  2020-02-01          1                    6.41\n",
       "1  2020-02-01          2                   10.26\n",
       "2  2020-02-01          4                   10.26\n",
       "3  2020-02-01          5                    6.41\n",
       "4  2020-02-01          6                    8.33"
      ]
     },
     "execution_count": 147,
     "metadata": {},
     "output_type": "execute_result"
    }
   ],
   "source": [
    "'''\n",
    "us_ContainmentHealthIndex = pd.read_csv('us_ContainmentHealthIndex.csv')\n",
    "us_ContainmentHealthIndex.rename(columns={\"RegionName\":\"statefips\", \"Date_clean\":'date'}, inplace=True)\n",
    "#us_ContainmentHealthIndex['date'] = pd.to_datetime(us_ContainmentHealthIndex['date'])\n",
    "us_ContainmentHealthIndex['statefips'] = us_ContainmentHealthIndex['statefips'].map(lambda x: us_state_abbrev[x])\n",
    "us_ContainmentHealthIndex = us_ContainmentHealthIndex[~us_ContainmentHealthIndex['statefips'].isin(['AS', 'GU', 'MP', 'PR', 'VI'])]\n",
    "geomap = pd.read_csv('GeoIDs - State.csv')\n",
    "geodict = {}\n",
    "for i in range(len(geomap)):\n",
    "    geodict[geomap.iloc[i,2]] = (geomap.iloc[i,0])\n",
    "us_ContainmentHealthIndex['statefips'] = us_ContainmentHealthIndex['statefips'].map(lambda x: geodict[x])\n",
    "us_ContainmentHealthIndex.head()\n",
    "'''\n",
    "\n"
   ]
  },
  {
   "cell_type": "code",
   "execution_count": 148,
   "metadata": {},
   "outputs": [
    {
     "data": {
      "text/plain": [
       "(16624, 11)"
      ]
     },
     "execution_count": 148,
     "metadata": {},
     "output_type": "execute_result"
    }
   ],
   "source": [
    "#tmp = df_merged.merge(us_ContainmentHealthIndex, on=['statefips','date'], how='left')\n",
    "#tmp.shape"
   ]
  },
  {
   "cell_type": "code",
   "execution_count": 151,
   "metadata": {},
   "outputs": [],
   "source": [
    "#tmp.to_csv('df_merged_analysis.csv')"
   ]
  },
  {
   "cell_type": "code",
   "execution_count": 58,
   "metadata": {},
   "outputs": [
    {
     "data": {
      "text/html": [
       "<table class=\"simpletable\">\n",
       "<caption>OLS Regression Results</caption>\n",
       "<tr>\n",
       "  <th>Dep. Variable:</th>           <td>Rt</td>        <th>  R-squared:         </th> <td>   0.004</td>\n",
       "</tr>\n",
       "<tr>\n",
       "  <th>Model:</th>                   <td>OLS</td>       <th>  Adj. R-squared:    </th> <td>   0.001</td>\n",
       "</tr>\n",
       "<tr>\n",
       "  <th>Method:</th>             <td>Least Squares</td>  <th>  F-statistic:       </th> <td>   1.498</td>\n",
       "</tr>\n",
       "<tr>\n",
       "  <th>Date:</th>             <td>Thu, 04 Mar 2021</td> <th>  Prob (F-statistic):</th>  <td>0.0130</td> \n",
       "</tr>\n",
       "<tr>\n",
       "  <th>Time:</th>                 <td>09:37:06</td>     <th>  Log-Likelihood:    </th> <td>  504.73</td>\n",
       "</tr>\n",
       "<tr>\n",
       "  <th>No. Observations:</th>      <td> 16624</td>      <th>  AIC:               </th> <td>  -907.5</td>\n",
       "</tr>\n",
       "<tr>\n",
       "  <th>Df Residuals:</th>          <td> 16573</td>      <th>  BIC:               </th> <td>  -513.8</td>\n",
       "</tr>\n",
       "<tr>\n",
       "  <th>Df Model:</th>              <td>    50</td>      <th>                     </th>     <td> </td>   \n",
       "</tr>\n",
       "<tr>\n",
       "  <th>Covariance Type:</th>      <td>nonrobust</td>    <th>                     </th>     <td> </td>   \n",
       "</tr>\n",
       "</table>\n",
       "<table class=\"simpletable\">\n",
       "<tr>\n",
       "                    <td></td>                      <th>coef</th>     <th>std err</th>      <th>t</th>      <th>P>|t|</th>  <th>[0.025</th>    <th>0.975]</th>  \n",
       "</tr>\n",
       "<tr>\n",
       "  <th>Intercept</th>                            <td>    1.0599</td> <td>    0.013</td> <td>   81.399</td> <td> 0.000</td> <td>    1.034</td> <td>    1.085</td>\n",
       "</tr>\n",
       "<tr>\n",
       "  <th>C(statename)[T.Alaska]</th>               <td>   -0.0134</td> <td>    0.018</td> <td>   -0.727</td> <td> 0.467</td> <td>   -0.050</td> <td>    0.023</td>\n",
       "</tr>\n",
       "<tr>\n",
       "  <th>C(statename)[T.Arizona]</th>              <td>    0.0236</td> <td>    0.018</td> <td>    1.280</td> <td> 0.200</td> <td>   -0.013</td> <td>    0.060</td>\n",
       "</tr>\n",
       "<tr>\n",
       "  <th>C(statename)[T.Arkansas]</th>             <td>    0.0032</td> <td>    0.018</td> <td>    0.173</td> <td> 0.862</td> <td>   -0.033</td> <td>    0.039</td>\n",
       "</tr>\n",
       "<tr>\n",
       "  <th>C(statename)[T.California]</th>           <td>   -0.0057</td> <td>    0.018</td> <td>   -0.310</td> <td> 0.756</td> <td>   -0.042</td> <td>    0.030</td>\n",
       "</tr>\n",
       "<tr>\n",
       "  <th>C(statename)[T.Colorado]</th>             <td>   -0.0153</td> <td>    0.018</td> <td>   -0.829</td> <td> 0.407</td> <td>   -0.051</td> <td>    0.021</td>\n",
       "</tr>\n",
       "<tr>\n",
       "  <th>C(statename)[T.Connecticut]</th>          <td>    0.0333</td> <td>    0.018</td> <td>    1.809</td> <td> 0.070</td> <td>   -0.003</td> <td>    0.069</td>\n",
       "</tr>\n",
       "<tr>\n",
       "  <th>C(statename)[T.Delaware]</th>             <td>    0.0019</td> <td>    0.018</td> <td>    0.104</td> <td> 0.917</td> <td>   -0.034</td> <td>    0.038</td>\n",
       "</tr>\n",
       "<tr>\n",
       "  <th>C(statename)[T.District of Columbia]</th> <td>   -0.0202</td> <td>    0.018</td> <td>   -1.099</td> <td> 0.272</td> <td>   -0.056</td> <td>    0.016</td>\n",
       "</tr>\n",
       "<tr>\n",
       "  <th>C(statename)[T.Florida]</th>              <td>    0.0217</td> <td>    0.018</td> <td>    1.181</td> <td> 0.238</td> <td>   -0.014</td> <td>    0.058</td>\n",
       "</tr>\n",
       "<tr>\n",
       "  <th>C(statename)[T.Georgia]</th>              <td>   -0.0097</td> <td>    0.018</td> <td>   -0.528</td> <td> 0.597</td> <td>   -0.046</td> <td>    0.026</td>\n",
       "</tr>\n",
       "<tr>\n",
       "  <th>C(statename)[T.Hawaii]</th>               <td>    0.0082</td> <td>    0.018</td> <td>    0.445</td> <td> 0.656</td> <td>   -0.028</td> <td>    0.044</td>\n",
       "</tr>\n",
       "<tr>\n",
       "  <th>C(statename)[T.Idaho]</th>                <td>   -0.0069</td> <td>    0.018</td> <td>   -0.374</td> <td> 0.708</td> <td>   -0.043</td> <td>    0.029</td>\n",
       "</tr>\n",
       "<tr>\n",
       "  <th>C(statename)[T.Illinois]</th>             <td>   -0.0103</td> <td>    0.018</td> <td>   -0.561</td> <td> 0.575</td> <td>   -0.046</td> <td>    0.026</td>\n",
       "</tr>\n",
       "<tr>\n",
       "  <th>C(statename)[T.Indiana]</th>              <td>    0.0231</td> <td>    0.018</td> <td>    1.256</td> <td> 0.209</td> <td>   -0.013</td> <td>    0.059</td>\n",
       "</tr>\n",
       "<tr>\n",
       "  <th>C(statename)[T.Iowa]</th>                 <td>    0.0063</td> <td>    0.018</td> <td>    0.341</td> <td> 0.733</td> <td>   -0.030</td> <td>    0.042</td>\n",
       "</tr>\n",
       "<tr>\n",
       "  <th>C(statename)[T.Kansas]</th>               <td>    0.0202</td> <td>    0.018</td> <td>    1.098</td> <td> 0.272</td> <td>   -0.016</td> <td>    0.056</td>\n",
       "</tr>\n",
       "<tr>\n",
       "  <th>C(statename)[T.Kentucky]</th>             <td>    0.0393</td> <td>    0.018</td> <td>    2.132</td> <td> 0.033</td> <td>    0.003</td> <td>    0.075</td>\n",
       "</tr>\n",
       "<tr>\n",
       "  <th>C(statename)[T.Louisiana]</th>            <td>   -0.0088</td> <td>    0.018</td> <td>   -0.477</td> <td> 0.633</td> <td>   -0.045</td> <td>    0.027</td>\n",
       "</tr>\n",
       "<tr>\n",
       "  <th>C(statename)[T.Maine]</th>                <td>   -0.0136</td> <td>    0.018</td> <td>   -0.736</td> <td> 0.461</td> <td>   -0.050</td> <td>    0.023</td>\n",
       "</tr>\n",
       "<tr>\n",
       "  <th>C(statename)[T.Maryland]</th>             <td>    0.0053</td> <td>    0.018</td> <td>    0.289</td> <td> 0.772</td> <td>   -0.031</td> <td>    0.041</td>\n",
       "</tr>\n",
       "<tr>\n",
       "  <th>C(statename)[T.Massachusetts]</th>        <td>   -0.0019</td> <td>    0.018</td> <td>   -0.104</td> <td> 0.917</td> <td>   -0.038</td> <td>    0.034</td>\n",
       "</tr>\n",
       "<tr>\n",
       "  <th>C(statename)[T.Michigan]</th>             <td>   -0.0491</td> <td>    0.018</td> <td>   -2.669</td> <td> 0.008</td> <td>   -0.085</td> <td>   -0.013</td>\n",
       "</tr>\n",
       "<tr>\n",
       "  <th>C(statename)[T.Minnesota]</th>            <td>   -0.0075</td> <td>    0.018</td> <td>   -0.406</td> <td> 0.685</td> <td>   -0.044</td> <td>    0.029</td>\n",
       "</tr>\n",
       "<tr>\n",
       "  <th>C(statename)[T.Mississippi]</th>          <td>   -0.0112</td> <td>    0.018</td> <td>   -0.611</td> <td> 0.541</td> <td>   -0.047</td> <td>    0.025</td>\n",
       "</tr>\n",
       "<tr>\n",
       "  <th>C(statename)[T.Missouri]</th>             <td>    0.0212</td> <td>    0.018</td> <td>    1.153</td> <td> 0.249</td> <td>   -0.015</td> <td>    0.057</td>\n",
       "</tr>\n",
       "<tr>\n",
       "  <th>C(statename)[T.Montana]</th>              <td>   -0.0033</td> <td>    0.018</td> <td>   -0.181</td> <td> 0.857</td> <td>   -0.039</td> <td>    0.033</td>\n",
       "</tr>\n",
       "<tr>\n",
       "  <th>C(statename)[T.Nebraska]</th>             <td>    0.0085</td> <td>    0.018</td> <td>    0.462</td> <td> 0.644</td> <td>   -0.028</td> <td>    0.045</td>\n",
       "</tr>\n",
       "<tr>\n",
       "  <th>C(statename)[T.Nevada]</th>               <td>    0.0070</td> <td>    0.018</td> <td>    0.380</td> <td> 0.704</td> <td>   -0.029</td> <td>    0.043</td>\n",
       "</tr>\n",
       "<tr>\n",
       "  <th>C(statename)[T.New Hampshire]</th>        <td>    0.0058</td> <td>    0.018</td> <td>    0.314</td> <td> 0.754</td> <td>   -0.030</td> <td>    0.042</td>\n",
       "</tr>\n",
       "<tr>\n",
       "  <th>C(statename)[T.New Jersey]</th>           <td>    0.0054</td> <td>    0.018</td> <td>    0.291</td> <td> 0.771</td> <td>   -0.031</td> <td>    0.041</td>\n",
       "</tr>\n",
       "<tr>\n",
       "  <th>C(statename)[T.New Mexico]</th>           <td>   -0.0037</td> <td>    0.018</td> <td>   -0.203</td> <td> 0.840</td> <td>   -0.040</td> <td>    0.032</td>\n",
       "</tr>\n",
       "<tr>\n",
       "  <th>C(statename)[T.New York]</th>             <td>   -0.0218</td> <td>    0.018</td> <td>   -1.182</td> <td> 0.237</td> <td>   -0.058</td> <td>    0.014</td>\n",
       "</tr>\n",
       "<tr>\n",
       "  <th>C(statename)[T.North Carolina]</th>       <td>    0.0180</td> <td>    0.018</td> <td>    0.978</td> <td> 0.328</td> <td>   -0.018</td> <td>    0.054</td>\n",
       "</tr>\n",
       "<tr>\n",
       "  <th>C(statename)[T.North Dakota]</th>         <td>   -0.0013</td> <td>    0.018</td> <td>   -0.073</td> <td> 0.942</td> <td>   -0.037</td> <td>    0.035</td>\n",
       "</tr>\n",
       "<tr>\n",
       "  <th>C(statename)[T.Ohio]</th>                 <td>    0.0093</td> <td>    0.018</td> <td>    0.503</td> <td> 0.615</td> <td>   -0.027</td> <td>    0.045</td>\n",
       "</tr>\n",
       "<tr>\n",
       "  <th>C(statename)[T.Oklahoma]</th>             <td>    0.0125</td> <td>    0.018</td> <td>    0.677</td> <td> 0.499</td> <td>   -0.024</td> <td>    0.049</td>\n",
       "</tr>\n",
       "<tr>\n",
       "  <th>C(statename)[T.Oregon]</th>               <td>    0.0011</td> <td>    0.018</td> <td>    0.060</td> <td> 0.953</td> <td>   -0.035</td> <td>    0.037</td>\n",
       "</tr>\n",
       "<tr>\n",
       "  <th>C(statename)[T.Pennsylvania]</th>         <td>    0.0056</td> <td>    0.018</td> <td>    0.303</td> <td> 0.762</td> <td>   -0.031</td> <td>    0.042</td>\n",
       "</tr>\n",
       "<tr>\n",
       "  <th>C(statename)[T.Rhode Island]</th>         <td>    0.0190</td> <td>    0.018</td> <td>    1.032</td> <td> 0.302</td> <td>   -0.017</td> <td>    0.055</td>\n",
       "</tr>\n",
       "<tr>\n",
       "  <th>C(statename)[T.South Carolina]</th>       <td>    0.0041</td> <td>    0.018</td> <td>    0.224</td> <td> 0.823</td> <td>   -0.032</td> <td>    0.040</td>\n",
       "</tr>\n",
       "<tr>\n",
       "  <th>C(statename)[T.South Dakota]</th>         <td>    0.0173</td> <td>    0.018</td> <td>    0.940</td> <td> 0.347</td> <td>   -0.019</td> <td>    0.053</td>\n",
       "</tr>\n",
       "<tr>\n",
       "  <th>C(statename)[T.Tennessee]</th>            <td>   -0.0014</td> <td>    0.018</td> <td>   -0.075</td> <td> 0.940</td> <td>   -0.037</td> <td>    0.035</td>\n",
       "</tr>\n",
       "<tr>\n",
       "  <th>C(statename)[T.Texas]</th>                <td>    0.0258</td> <td>    0.018</td> <td>    1.402</td> <td> 0.161</td> <td>   -0.010</td> <td>    0.062</td>\n",
       "</tr>\n",
       "<tr>\n",
       "  <th>C(statename)[T.Utah]</th>                 <td>   -0.0021</td> <td>    0.018</td> <td>   -0.113</td> <td> 0.910</td> <td>   -0.038</td> <td>    0.034</td>\n",
       "</tr>\n",
       "<tr>\n",
       "  <th>C(statename)[T.Vermont]</th>              <td>   -0.0134</td> <td>    0.018</td> <td>   -0.730</td> <td> 0.466</td> <td>   -0.050</td> <td>    0.023</td>\n",
       "</tr>\n",
       "<tr>\n",
       "  <th>C(statename)[T.Virginia]</th>             <td>    0.0162</td> <td>    0.018</td> <td>    0.879</td> <td> 0.379</td> <td>   -0.020</td> <td>    0.052</td>\n",
       "</tr>\n",
       "<tr>\n",
       "  <th>C(statename)[T.Washington]</th>           <td>   -0.0262</td> <td>    0.018</td> <td>   -1.425</td> <td> 0.154</td> <td>   -0.062</td> <td>    0.010</td>\n",
       "</tr>\n",
       "<tr>\n",
       "  <th>C(statename)[T.West Virginia]</th>        <td>   -0.0023</td> <td>    0.018</td> <td>   -0.123</td> <td> 0.902</td> <td>   -0.038</td> <td>    0.034</td>\n",
       "</tr>\n",
       "<tr>\n",
       "  <th>C(statename)[T.Wisconsin]</th>            <td>    0.0004</td> <td>    0.018</td> <td>    0.021</td> <td> 0.984</td> <td>   -0.036</td> <td>    0.036</td>\n",
       "</tr>\n",
       "<tr>\n",
       "  <th>C(statename)[T.Wyoming]</th>              <td>    0.0026</td> <td>    0.018</td> <td>    0.143</td> <td> 0.886</td> <td>   -0.033</td> <td>    0.039</td>\n",
       "</tr>\n",
       "</table>\n",
       "<table class=\"simpletable\">\n",
       "<tr>\n",
       "  <th>Omnibus:</th>       <td>14489.987</td> <th>  Durbin-Watson:     </th>  <td>   0.126</td> \n",
       "</tr>\n",
       "<tr>\n",
       "  <th>Prob(Omnibus):</th>  <td> 0.000</td>   <th>  Jarque-Bera (JB):  </th> <td>522097.688</td>\n",
       "</tr>\n",
       "<tr>\n",
       "  <th>Skew:</th>           <td> 4.132</td>   <th>  Prob(JB):          </th>  <td>    0.00</td> \n",
       "</tr>\n",
       "<tr>\n",
       "  <th>Kurtosis:</th>       <td>29.181</td>   <th>  Cond. No.          </th>  <td>    52.0</td> \n",
       "</tr>\n",
       "</table><br/><br/>Notes:<br/>[1] Standard Errors assume that the covariance matrix of the errors is correctly specified."
      ],
      "text/plain": [
       "<class 'statsmodels.iolib.summary.Summary'>\n",
       "\"\"\"\n",
       "                            OLS Regression Results                            \n",
       "==============================================================================\n",
       "Dep. Variable:                     Rt   R-squared:                       0.004\n",
       "Model:                            OLS   Adj. R-squared:                  0.001\n",
       "Method:                 Least Squares   F-statistic:                     1.498\n",
       "Date:                Thu, 04 Mar 2021   Prob (F-statistic):             0.0130\n",
       "Time:                        09:37:06   Log-Likelihood:                 504.73\n",
       "No. Observations:               16624   AIC:                            -907.5\n",
       "Df Residuals:                   16573   BIC:                            -513.8\n",
       "Df Model:                          50                                         \n",
       "Covariance Type:            nonrobust                                         \n",
       "========================================================================================================\n",
       "                                           coef    std err          t      P>|t|      [0.025      0.975]\n",
       "--------------------------------------------------------------------------------------------------------\n",
       "Intercept                                1.0599      0.013     81.399      0.000       1.034       1.085\n",
       "C(statename)[T.Alaska]                  -0.0134      0.018     -0.727      0.467      -0.050       0.023\n",
       "C(statename)[T.Arizona]                  0.0236      0.018      1.280      0.200      -0.013       0.060\n",
       "C(statename)[T.Arkansas]                 0.0032      0.018      0.173      0.862      -0.033       0.039\n",
       "C(statename)[T.California]              -0.0057      0.018     -0.310      0.756      -0.042       0.030\n",
       "C(statename)[T.Colorado]                -0.0153      0.018     -0.829      0.407      -0.051       0.021\n",
       "C(statename)[T.Connecticut]              0.0333      0.018      1.809      0.070      -0.003       0.069\n",
       "C(statename)[T.Delaware]                 0.0019      0.018      0.104      0.917      -0.034       0.038\n",
       "C(statename)[T.District of Columbia]    -0.0202      0.018     -1.099      0.272      -0.056       0.016\n",
       "C(statename)[T.Florida]                  0.0217      0.018      1.181      0.238      -0.014       0.058\n",
       "C(statename)[T.Georgia]                 -0.0097      0.018     -0.528      0.597      -0.046       0.026\n",
       "C(statename)[T.Hawaii]                   0.0082      0.018      0.445      0.656      -0.028       0.044\n",
       "C(statename)[T.Idaho]                   -0.0069      0.018     -0.374      0.708      -0.043       0.029\n",
       "C(statename)[T.Illinois]                -0.0103      0.018     -0.561      0.575      -0.046       0.026\n",
       "C(statename)[T.Indiana]                  0.0231      0.018      1.256      0.209      -0.013       0.059\n",
       "C(statename)[T.Iowa]                     0.0063      0.018      0.341      0.733      -0.030       0.042\n",
       "C(statename)[T.Kansas]                   0.0202      0.018      1.098      0.272      -0.016       0.056\n",
       "C(statename)[T.Kentucky]                 0.0393      0.018      2.132      0.033       0.003       0.075\n",
       "C(statename)[T.Louisiana]               -0.0088      0.018     -0.477      0.633      -0.045       0.027\n",
       "C(statename)[T.Maine]                   -0.0136      0.018     -0.736      0.461      -0.050       0.023\n",
       "C(statename)[T.Maryland]                 0.0053      0.018      0.289      0.772      -0.031       0.041\n",
       "C(statename)[T.Massachusetts]           -0.0019      0.018     -0.104      0.917      -0.038       0.034\n",
       "C(statename)[T.Michigan]                -0.0491      0.018     -2.669      0.008      -0.085      -0.013\n",
       "C(statename)[T.Minnesota]               -0.0075      0.018     -0.406      0.685      -0.044       0.029\n",
       "C(statename)[T.Mississippi]             -0.0112      0.018     -0.611      0.541      -0.047       0.025\n",
       "C(statename)[T.Missouri]                 0.0212      0.018      1.153      0.249      -0.015       0.057\n",
       "C(statename)[T.Montana]                 -0.0033      0.018     -0.181      0.857      -0.039       0.033\n",
       "C(statename)[T.Nebraska]                 0.0085      0.018      0.462      0.644      -0.028       0.045\n",
       "C(statename)[T.Nevada]                   0.0070      0.018      0.380      0.704      -0.029       0.043\n",
       "C(statename)[T.New Hampshire]            0.0058      0.018      0.314      0.754      -0.030       0.042\n",
       "C(statename)[T.New Jersey]               0.0054      0.018      0.291      0.771      -0.031       0.041\n",
       "C(statename)[T.New Mexico]              -0.0037      0.018     -0.203      0.840      -0.040       0.032\n",
       "C(statename)[T.New York]                -0.0218      0.018     -1.182      0.237      -0.058       0.014\n",
       "C(statename)[T.North Carolina]           0.0180      0.018      0.978      0.328      -0.018       0.054\n",
       "C(statename)[T.North Dakota]            -0.0013      0.018     -0.073      0.942      -0.037       0.035\n",
       "C(statename)[T.Ohio]                     0.0093      0.018      0.503      0.615      -0.027       0.045\n",
       "C(statename)[T.Oklahoma]                 0.0125      0.018      0.677      0.499      -0.024       0.049\n",
       "C(statename)[T.Oregon]                   0.0011      0.018      0.060      0.953      -0.035       0.037\n",
       "C(statename)[T.Pennsylvania]             0.0056      0.018      0.303      0.762      -0.031       0.042\n",
       "C(statename)[T.Rhode Island]             0.0190      0.018      1.032      0.302      -0.017       0.055\n",
       "C(statename)[T.South Carolina]           0.0041      0.018      0.224      0.823      -0.032       0.040\n",
       "C(statename)[T.South Dakota]             0.0173      0.018      0.940      0.347      -0.019       0.053\n",
       "C(statename)[T.Tennessee]               -0.0014      0.018     -0.075      0.940      -0.037       0.035\n",
       "C(statename)[T.Texas]                    0.0258      0.018      1.402      0.161      -0.010       0.062\n",
       "C(statename)[T.Utah]                    -0.0021      0.018     -0.113      0.910      -0.038       0.034\n",
       "C(statename)[T.Vermont]                 -0.0134      0.018     -0.730      0.466      -0.050       0.023\n",
       "C(statename)[T.Virginia]                 0.0162      0.018      0.879      0.379      -0.020       0.052\n",
       "C(statename)[T.Washington]              -0.0262      0.018     -1.425      0.154      -0.062       0.010\n",
       "C(statename)[T.West Virginia]           -0.0023      0.018     -0.123      0.902      -0.038       0.034\n",
       "C(statename)[T.Wisconsin]                0.0004      0.018      0.021      0.984      -0.036       0.036\n",
       "C(statename)[T.Wyoming]                  0.0026      0.018      0.143      0.886      -0.033       0.039\n",
       "==============================================================================\n",
       "Omnibus:                    14489.987   Durbin-Watson:                   0.126\n",
       "Prob(Omnibus):                  0.000   Jarque-Bera (JB):           522097.688\n",
       "Skew:                           4.132   Prob(JB):                         0.00\n",
       "Kurtosis:                      29.181   Cond. No.                         52.0\n",
       "==============================================================================\n",
       "\n",
       "Notes:\n",
       "[1] Standard Errors assume that the covariance matrix of the errors is correctly specified.\n",
       "\"\"\""
      ]
     },
     "execution_count": 58,
     "metadata": {},
     "output_type": "execute_result"
    }
   ],
   "source": [
    "## Baseline autoregression\n",
    "'''\n",
    "Y = np.array([])\n",
    "X_baseline = np.array([])\n",
    "for state in df_merged.statefips.unique():\n",
    "    tmp = df_merged[df_merged.statefips==state]\n",
    "    longLag = 25\n",
    "    shortLag = 3\n",
    "    tmp = tmp.assign(**{'newPositiveFraction':(tmp['positiveIncrease'].rolling(shortLag).sum()/tmp['positiveIncrease'].rolling(longLag).sum()).values})\n",
    "    tmp.dropna(inplace=True)\n",
    "    Lag = 21\n",
    "    Y = np.concatenate((Y,tmp['newPositiveFraction'][Lag:].values))\n",
    "    X_baseline = np.concatenate((X_baseline,tmp['shadow_index_normalized'][:-Lag].values))\n",
    "\n",
    "\n",
    "Y = df_merged['Rt']\n",
    "X_baseline = df_merged.iloc[:,9:58]\n",
    "X_baseline = sm.add_constant(X_baseline)\n",
    "model = sm.OLS(Y, X_baseline).fit()\n",
    "predictions = model.predict(X_baseline) \n",
    "\n",
    "print_model = model.summary()\n",
    "print(print_model)\n",
    "'''\n",
    "\n",
    "cw_lm=ols('Rt ~ C(statename)', data=df_merged).fit()\n",
    "cw_lm.summary()"
   ]
  },
  {
   "cell_type": "code",
   "execution_count": 155,
   "metadata": {},
   "outputs": [],
   "source": [
    "dat = pd.DataFrame([], columns=['statename', 'ContainmentHealthIndex', 'shadow_index_normalized', 'Rt'])\n",
    "for state in df_merged.statename.unique():\n",
    "    tmp = df_merged[df_merged.statename==state]\n",
    "    '''\n",
    "    longLag = 25\n",
    "    shortLag = 3\n",
    "    tmp = tmp.assign(**{'newPositiveFraction':(tmp['positiveIncrease'].rolling(shortLag).sum()/tmp['positiveIncrease'].rolling(longLag).sum()).values})\n",
    "    tmp.dropna(inplace=True)\n",
    "    '''\n",
    "    Lag = 7\n",
    "    Y = tmp['Rt'][Lag:]\n",
    "    X_baseline = tmp[['statename', 'ContainmentHealthIndex', 'shadow_index_normalized']].iloc[:-Lag,:]\n",
    "    X_baseline['Rt'] = Y.values\n",
    "    \n",
    "    dat = pd.concat([dat,X_baseline])\n"
   ]
  },
  {
   "cell_type": "code",
   "execution_count": 156,
   "metadata": {},
   "outputs": [
    {
     "data": {
      "text/plain": [
       "(16267, 4)"
      ]
     },
     "execution_count": 156,
     "metadata": {},
     "output_type": "execute_result"
    }
   ],
   "source": [
    "dat.shape"
   ]
  },
  {
   "cell_type": "code",
   "execution_count": 159,
   "metadata": {},
   "outputs": [
    {
     "name": "stdout",
     "output_type": "stream",
     "text": [
      "                            OLS Regression Results                            \n",
      "==============================================================================\n",
      "Dep. Variable:                     Rt   R-squared:                       0.406\n",
      "Model:                            OLS   Adj. R-squared:                  0.404\n",
      "Method:                 Least Squares   F-statistic:                     213.3\n",
      "Date:                Thu, 04 Mar 2021   Prob (F-statistic):               0.00\n",
      "Time:                        16:38:29   Log-Likelihood:                 10872.\n",
      "No. Observations:               16265   AIC:                        -2.164e+04\n",
      "Df Residuals:                   16212   BIC:                        -2.123e+04\n",
      "Df Model:                          52                                         \n",
      "Covariance Type:            nonrobust                                         \n",
      "========================================================================================================\n",
      "                                           coef    std err          t      P>|t|      [0.025      0.975]\n",
      "--------------------------------------------------------------------------------------------------------\n",
      "Intercept                                1.6195      0.010    170.303      0.000       1.601       1.638\n",
      "C(statename)[T.Alaska]                   0.0992      0.010     10.025      0.000       0.080       0.119\n",
      "C(statename)[T.Arizona]                  0.0892      0.010      9.027      0.000       0.070       0.109\n",
      "C(statename)[T.Arkansas]                 0.0393      0.010      3.983      0.000       0.020       0.059\n",
      "C(statename)[T.California]               0.1456      0.010     14.629      0.000       0.126       0.165\n",
      "C(statename)[T.Colorado]                 0.0714      0.010      7.215      0.000       0.052       0.091\n",
      "C(statename)[T.Connecticut]              0.1882      0.010     18.873      0.000       0.169       0.208\n",
      "C(statename)[T.Delaware]                 0.1471      0.010     14.813      0.000       0.128       0.167\n",
      "C(statename)[T.District of Columbia]     0.2269      0.010     21.945      0.000       0.207       0.247\n",
      "C(statename)[T.Florida]                  0.0492      0.010      4.969      0.000       0.030       0.069\n",
      "C(statename)[T.Georgia]                  0.0499      0.010      5.058      0.000       0.031       0.069\n",
      "C(statename)[T.Hawaii]                   0.2236      0.010     22.296      0.000       0.204       0.243\n",
      "C(statename)[T.Idaho]                   -0.0500      0.010     -5.073      0.000      -0.069      -0.031\n",
      "C(statename)[T.Illinois]                 0.0699      0.010      7.050      0.000       0.050       0.089\n",
      "C(statename)[T.Indiana]                  0.0363      0.010      3.677      0.000       0.017       0.056\n",
      "C(statename)[T.Iowa]                     0.0041      0.010      0.418      0.676      -0.015       0.024\n",
      "C(statename)[T.Kansas]                   0.0578      0.010      5.867      0.000       0.038       0.077\n",
      "C(statename)[T.Kentucky]                 0.1520      0.010     15.249      0.000       0.132       0.172\n",
      "C(statename)[T.Louisiana]                0.0460      0.010      4.659      0.000       0.027       0.065\n",
      "C(statename)[T.Maine]                    0.1900      0.010     18.988      0.000       0.170       0.210\n",
      "C(statename)[T.Maryland]                 0.1295      0.010     13.050      0.000       0.110       0.149\n",
      "C(statename)[T.Massachusetts]            0.1605      0.010     16.034      0.000       0.141       0.180\n",
      "C(statename)[T.Michigan]                 0.0344      0.010      3.486      0.000       0.015       0.054\n",
      "C(statename)[T.Minnesota]                0.0763      0.010      7.728      0.000       0.057       0.096\n",
      "C(statename)[T.Mississippi]             -0.0237      0.010     -2.409      0.016      -0.043      -0.004\n",
      "C(statename)[T.Missouri]                -0.0103      0.010     -1.039      0.299      -0.030       0.009\n",
      "C(statename)[T.Montana]                  0.0565      0.010      5.739      0.000       0.037       0.076\n",
      "C(statename)[T.Nebraska]                 0.0191      0.010      1.937      0.053      -0.000       0.038\n",
      "C(statename)[T.Nevada]                   0.0660      0.010      6.687      0.000       0.047       0.085\n",
      "C(statename)[T.New Hampshire]            0.0689      0.010      6.976      0.000       0.050       0.088\n",
      "C(statename)[T.New Jersey]               0.0934      0.010      9.428      0.000       0.074       0.113\n",
      "C(statename)[T.New Mexico]               0.2005      0.010     19.881      0.000       0.181       0.220\n",
      "C(statename)[T.New York]                 0.1620      0.010     16.120      0.000       0.142       0.182\n",
      "C(statename)[T.North Carolina]           0.0892      0.010      9.028      0.000       0.070       0.109\n",
      "C(statename)[T.North Dakota]            -0.0589      0.010     -5.966      0.000      -0.078      -0.040\n",
      "C(statename)[T.Ohio]                     0.0989      0.010     10.011      0.000       0.080       0.118\n",
      "C(statename)[T.Oklahoma]                -0.0115      0.010     -1.160      0.246      -0.031       0.008\n",
      "C(statename)[T.Oregon]                   0.0618      0.010      6.268      0.000       0.042       0.081\n",
      "C(statename)[T.Pennsylvania]             0.0822      0.010      8.321      0.000       0.063       0.102\n",
      "C(statename)[T.Rhode Island]             0.1990      0.010     19.895      0.000       0.179       0.219\n",
      "C(statename)[T.South Carolina]           0.0192      0.010      1.947      0.052      -0.000       0.038\n",
      "C(statename)[T.South Dakota]            -0.0716      0.010     -7.224      0.000      -0.091      -0.052\n",
      "C(statename)[T.Tennessee]                0.0206      0.010      2.090      0.037       0.001       0.040\n",
      "C(statename)[T.Texas]                    0.0557      0.010      5.618      0.000       0.036       0.075\n",
      "C(statename)[T.Utah]                    -0.0098      0.010     -0.997      0.319      -0.029       0.009\n",
      "C(statename)[T.Vermont]                  0.1512      0.010     15.200      0.000       0.132       0.171\n",
      "C(statename)[T.Virginia]                 0.0975      0.010      9.871      0.000       0.078       0.117\n",
      "C(statename)[T.Washington]               0.0805      0.010      8.142      0.000       0.061       0.100\n",
      "C(statename)[T.West Virginia]            0.0397      0.010      4.026      0.000       0.020       0.059\n",
      "C(statename)[T.Wisconsin]                0.0744      0.010      7.528      0.000       0.055       0.094\n",
      "C(statename)[T.Wyoming]                  0.0613      0.010      6.215      0.000       0.042       0.081\n",
      "ContainmentHealthIndex                  -0.0084      0.000    -58.684      0.000      -0.009      -0.008\n",
      "shadow_index_normalized                 -0.0034   8.69e-05    -39.524      0.000      -0.004      -0.003\n",
      "==============================================================================\n",
      "Omnibus:                     3565.312   Durbin-Watson:                   0.095\n",
      "Prob(Omnibus):                  0.000   Jarque-Bera (JB):            19717.630\n",
      "Skew:                           0.943   Prob(JB):                         0.00\n",
      "Kurtosis:                       8.053   Cond. No.                     3.98e+03\n",
      "==============================================================================\n",
      "\n",
      "Notes:\n",
      "[1] Standard Errors assume that the covariance matrix of the errors is correctly specified.\n",
      "[2] The condition number is large, 3.98e+03. This might indicate that there are\n",
      "strong multicollinearity or other numerical problems.\n",
      "                             sum_sq       df            F  PR(>F)\n",
      "C(statename)              55.364193     50.0    71.764910     0.0\n",
      "ContainmentHealthIndex    53.136081      1.0  3443.837817     0.0\n",
      "shadow_index_normalized   24.103286      1.0  1562.174092     0.0\n",
      "Residual                 250.140160  16212.0          NaN     NaN\n"
     ]
    }
   ],
   "source": [
    "cw_lm=ols('Rt ~ C(statename)+ContainmentHealthIndex+shadow_index_normalized', data=dat).fit()  #+Stringency+shadow_index_normalized\n",
    "print(cw_lm.summary())\n",
    "print(sm.stats.anova_lm(cw_lm, typ=2))"
   ]
  },
  {
   "cell_type": "code",
   "execution_count": 160,
   "metadata": {},
   "outputs": [],
   "source": [
    "## Maximal strigency and optimal stringency\n",
    "nbins = 10\n",
    "SDI_bins = np.linspace(dat.shadow_index_normalized.min(), dat.shadow_index_normalized.max(),nbins+1)\n",
    "SDI_bincenters = SDI_bins[:-1] + (SDI_bins[1]-SDI_bins[0])/2\n",
    "optimal_stringency = np.zeros(nbins)\n",
    "maximal_stringency = np.zeros(nbins)\n",
    "minimal_stringency = np.zeros(nbins)\n",
    "\n",
    "for i in range(nbins):\n",
    "    tmp = dat.loc[(dat.shadow_index_normalized >= SDI_bins[i]) & (dat.shadow_index_normalized < SDI_bins[i+1])]\n",
    "    lowestRt = tmp['Rt'].min()\n",
    "    maximal_stringency[i] = tmp['ContainmentHealthIndex'].max()\n",
    "    minimal_stringency[i] = tmp['ContainmentHealthIndex'].min()\n",
    "    optimal_stringency[i] = tmp.loc[tmp['Rt']==lowestRt]['ContainmentHealthIndex']"
   ]
  },
  {
   "cell_type": "code",
   "execution_count": 162,
   "metadata": {},
   "outputs": [
    {
     "data": {
      "text/plain": [
       "Text(0, 0.5, 'ContainmentHealthIndex')"
      ]
     },
     "execution_count": 162,
     "metadata": {},
     "output_type": "execute_result"
    },
    {
     "data": {
      "image/png": "[encoded data removed]",
      "text/plain": [
       "<Figure size 900x450 with 1 Axes>"
      ]
     },
     "metadata": {},
     "output_type": "display_data"
    }
   ],
   "source": [
    "plt.figure(figsize=(6,3))\n",
    "plt.plot(SDI_bincenters, maximal_stringency, '.-', label='Maximal ContainmentHealthIndex')\n",
    "plt.plot(SDI_bincenters, minimal_stringency, '.-', label='Minimal ContainmentHealthIndex')\n",
    "plt.plot(SDI_bincenters, optimal_stringency, '.-', label='Optimal ContainmentHealthIndex')\n",
    "plt.legend(frameon=False)\n",
    "plt.xlabel('SDI level')\n",
    "plt.ylabel('ContainmentHealthIndex')"
   ]
  },
  {
   "cell_type": "code",
   "execution_count": 111,
   "metadata": {},
   "outputs": [
    {
     "data": {
      "text/html": [
       "<div>\n",
       "<style scoped>\n",
       "    .dataframe tbody tr th:only-of-type {\n",
       "        vertical-align: middle;\n",
       "    }\n",
       "\n",
       "    .dataframe tbody tr th {\n",
       "        vertical-align: top;\n",
       "    }\n",
       "\n",
       "    .dataframe thead th {\n",
       "        text-align: right;\n",
       "    }\n",
       "</style>\n",
       "<table border=\"1\" class=\"dataframe\">\n",
       "  <thead>\n",
       "    <tr style=\"text-align: right;\">\n",
       "      <th></th>\n",
       "      <th>statename</th>\n",
       "      <th>Stringency</th>\n",
       "      <th>shadow_index_normalized</th>\n",
       "      <th>Rt</th>\n",
       "    </tr>\n",
       "  </thead>\n",
       "  <tbody>\n",
       "    <tr>\n",
       "      <th>0</th>\n",
       "      <td>Alabama</td>\n",
       "      <td>8.33</td>\n",
       "      <td>7.647214</td>\n",
       "      <td>1.894263</td>\n",
       "    </tr>\n",
       "    <tr>\n",
       "      <th>1</th>\n",
       "      <td>Alabama</td>\n",
       "      <td>8.33</td>\n",
       "      <td>6.104251</td>\n",
       "      <td>1.849735</td>\n",
       "    </tr>\n",
       "    <tr>\n",
       "      <th>2</th>\n",
       "      <td>Alabama</td>\n",
       "      <td>8.33</td>\n",
       "      <td>7.227147</td>\n",
       "      <td>1.794589</td>\n",
       "    </tr>\n",
       "    <tr>\n",
       "      <th>3</th>\n",
       "      <td>Alabama</td>\n",
       "      <td>16.67</td>\n",
       "      <td>6.999156</td>\n",
       "      <td>1.737746</td>\n",
       "    </tr>\n",
       "    <tr>\n",
       "      <th>4</th>\n",
       "      <td>Alabama</td>\n",
       "      <td>16.67</td>\n",
       "      <td>6.644607</td>\n",
       "      <td>1.679838</td>\n",
       "    </tr>\n",
       "  </tbody>\n",
       "</table>\n",
       "</div>"
      ],
      "text/plain": [
       "  statename  Stringency  shadow_index_normalized        Rt\n",
       "0   Alabama        8.33                 7.647214  1.894263\n",
       "1   Alabama        8.33                 6.104251  1.849735\n",
       "2   Alabama        8.33                 7.227147  1.794589\n",
       "3   Alabama       16.67                 6.999156  1.737746\n",
       "4   Alabama       16.67                 6.644607  1.679838"
      ]
     },
     "execution_count": 111,
     "metadata": {},
     "output_type": "execute_result"
    }
   ],
   "source": [
    "dat.head()"
   ]
  },
  {
   "cell_type": "code",
   "execution_count": null,
   "metadata": {},
   "outputs": [],
   "source": []
  },
  {
   "cell_type": "markdown",
   "metadata": {},
   "source": [
    "## National data"
   ]
  },
  {
   "cell_type": "code",
   "execution_count": 468,
   "metadata": {},
   "outputs": [
    {
     "data": {
      "text/html": [
       "<div>\n",
       "<style scoped>\n",
       "    .dataframe tbody tr th:only-of-type {\n",
       "        vertical-align: middle;\n",
       "    }\n",
       "\n",
       "    .dataframe tbody tr th {\n",
       "        vertical-align: top;\n",
       "    }\n",
       "\n",
       "    .dataframe thead th {\n",
       "        text-align: right;\n",
       "    }\n",
       "</style>\n",
       "<table border=\"1\" class=\"dataframe\">\n",
       "  <thead>\n",
       "    <tr style=\"text-align: right;\">\n",
       "      <th></th>\n",
       "      <th>date</th>\n",
       "      <th>death</th>\n",
       "      <th>deathIncrease</th>\n",
       "      <th>inIcuCumulative</th>\n",
       "      <th>inIcuCurrently</th>\n",
       "      <th>hospitalizedIncrease</th>\n",
       "      <th>hospitalizedCurrently</th>\n",
       "      <th>hospitalizedCumulative</th>\n",
       "      <th>negative</th>\n",
       "      <th>negativeIncrease</th>\n",
       "      <th>onVentilatorCumulative</th>\n",
       "      <th>onVentilatorCurrently</th>\n",
       "      <th>positive</th>\n",
       "      <th>positiveIncrease</th>\n",
       "      <th>recovered</th>\n",
       "      <th>states</th>\n",
       "      <th>totalTestResults</th>\n",
       "      <th>totalTestResultsIncrease</th>\n",
       "    </tr>\n",
       "  </thead>\n",
       "  <tbody>\n",
       "    <tr>\n",
       "      <th>0</th>\n",
       "      <td>2020-04-01</td>\n",
       "      <td>5336.0</td>\n",
       "      <td>1004</td>\n",
       "      <td>256.0</td>\n",
       "      <td>3937.0</td>\n",
       "      <td>4134</td>\n",
       "      <td>20906.0</td>\n",
       "      <td>27930.0</td>\n",
       "      <td>1028082.0</td>\n",
       "      <td>86693</td>\n",
       "      <td>32.0</td>\n",
       "      <td>561.0</td>\n",
       "      <td>223165.0</td>\n",
       "      <td>26233</td>\n",
       "      <td>7084.0</td>\n",
       "      <td>56</td>\n",
       "      <td>1302177</td>\n",
       "      <td>118204</td>\n",
       "    </tr>\n",
       "    <tr>\n",
       "      <th>1</th>\n",
       "      <td>2020-04-02</td>\n",
       "      <td>6514.0</td>\n",
       "      <td>1178</td>\n",
       "      <td>305.0</td>\n",
       "      <td>4513.0</td>\n",
       "      <td>4198</td>\n",
       "      <td>22997.0</td>\n",
       "      <td>32128.0</td>\n",
       "      <td>1127354.0</td>\n",
       "      <td>99272</td>\n",
       "      <td>32.0</td>\n",
       "      <td>574.0</td>\n",
       "      <td>251272.0</td>\n",
       "      <td>28107</td>\n",
       "      <td>8586.0</td>\n",
       "      <td>56</td>\n",
       "      <td>1431542</td>\n",
       "      <td>129365</td>\n",
       "    </tr>\n",
       "    <tr>\n",
       "      <th>2</th>\n",
       "      <td>2020-04-03</td>\n",
       "      <td>7799.0</td>\n",
       "      <td>1285</td>\n",
       "      <td>335.0</td>\n",
       "      <td>4928.0</td>\n",
       "      <td>4603</td>\n",
       "      <td>25777.0</td>\n",
       "      <td>36731.0</td>\n",
       "      <td>1231890.0</td>\n",
       "      <td>104536</td>\n",
       "      <td>39.0</td>\n",
       "      <td>623.0</td>\n",
       "      <td>283145.0</td>\n",
       "      <td>31873</td>\n",
       "      <td>10861.0</td>\n",
       "      <td>56</td>\n",
       "      <td>1572257</td>\n",
       "      <td>140715</td>\n",
       "    </tr>\n",
       "    <tr>\n",
       "      <th>3</th>\n",
       "      <td>2020-04-04</td>\n",
       "      <td>9280.0</td>\n",
       "      <td>1481</td>\n",
       "      <td>403.0</td>\n",
       "      <td>5500.0</td>\n",
       "      <td>5012</td>\n",
       "      <td>30268.0</td>\n",
       "      <td>41743.0</td>\n",
       "      <td>1428863.0</td>\n",
       "      <td>196973</td>\n",
       "      <td>39.0</td>\n",
       "      <td>656.0</td>\n",
       "      <td>316230.0</td>\n",
       "      <td>33085</td>\n",
       "      <td>12844.0</td>\n",
       "      <td>56</td>\n",
       "      <td>1804491</td>\n",
       "      <td>232234</td>\n",
       "    </tr>\n",
       "    <tr>\n",
       "      <th>4</th>\n",
       "      <td>2020-04-05</td>\n",
       "      <td>10619.0</td>\n",
       "      <td>1339</td>\n",
       "      <td>609.0</td>\n",
       "      <td>5811.0</td>\n",
       "      <td>3937</td>\n",
       "      <td>32180.0</td>\n",
       "      <td>45680.0</td>\n",
       "      <td>1521226.0</td>\n",
       "      <td>92363</td>\n",
       "      <td>39.0</td>\n",
       "      <td>652.0</td>\n",
       "      <td>342109.0</td>\n",
       "      <td>25879</td>\n",
       "      <td>14589.0</td>\n",
       "      <td>56</td>\n",
       "      <td>1924137</td>\n",
       "      <td>119646</td>\n",
       "    </tr>\n",
       "    <tr>\n",
       "      <th>...</th>\n",
       "      <td>...</td>\n",
       "      <td>...</td>\n",
       "      <td>...</td>\n",
       "      <td>...</td>\n",
       "      <td>...</td>\n",
       "      <td>...</td>\n",
       "      <td>...</td>\n",
       "      <td>...</td>\n",
       "      <td>...</td>\n",
       "      <td>...</td>\n",
       "      <td>...</td>\n",
       "      <td>...</td>\n",
       "      <td>...</td>\n",
       "      <td>...</td>\n",
       "      <td>...</td>\n",
       "      <td>...</td>\n",
       "      <td>...</td>\n",
       "      <td>...</td>\n",
       "    </tr>\n",
       "    <tr>\n",
       "      <th>260</th>\n",
       "      <td>2020-12-17</td>\n",
       "      <td>302261.0</td>\n",
       "      <td>3438</td>\n",
       "      <td>34485.0</td>\n",
       "      <td>21910.0</td>\n",
       "      <td>5133</td>\n",
       "      <td>114459.0</td>\n",
       "      <td>632907.0</td>\n",
       "      <td>176612654.0</td>\n",
       "      <td>1257813</td>\n",
       "      <td>3504.0</td>\n",
       "      <td>7847.0</td>\n",
       "      <td>17011818.0</td>\n",
       "      <td>240156</td>\n",
       "      <td>6681651.0</td>\n",
       "      <td>56</td>\n",
       "      <td>226403201</td>\n",
       "      <td>1873340</td>\n",
       "    </tr>\n",
       "    <tr>\n",
       "      <th>261</th>\n",
       "      <td>2020-12-18</td>\n",
       "      <td>305127.0</td>\n",
       "      <td>2866</td>\n",
       "      <td>34716.0</td>\n",
       "      <td>21745.0</td>\n",
       "      <td>5240</td>\n",
       "      <td>113955.0</td>\n",
       "      <td>638147.0</td>\n",
       "      <td>178149619.0</td>\n",
       "      <td>1536965</td>\n",
       "      <td>3519.0</td>\n",
       "      <td>7786.0</td>\n",
       "      <td>17251064.0</td>\n",
       "      <td>239246</td>\n",
       "      <td>6762700.0</td>\n",
       "      <td>56</td>\n",
       "      <td>228600886</td>\n",
       "      <td>2197685</td>\n",
       "    </tr>\n",
       "    <tr>\n",
       "      <th>262</th>\n",
       "      <td>2020-12-19</td>\n",
       "      <td>307850.0</td>\n",
       "      <td>2723</td>\n",
       "      <td>34949.0</td>\n",
       "      <td>21688.0</td>\n",
       "      <td>3337</td>\n",
       "      <td>113929.0</td>\n",
       "      <td>641484.0</td>\n",
       "      <td>179336829.0</td>\n",
       "      <td>1187210</td>\n",
       "      <td>3529.0</td>\n",
       "      <td>7790.0</td>\n",
       "      <td>17453876.0</td>\n",
       "      <td>202812</td>\n",
       "      <td>6882996.0</td>\n",
       "      <td>56</td>\n",
       "      <td>230340472</td>\n",
       "      <td>1739586</td>\n",
       "    </tr>\n",
       "    <tr>\n",
       "      <th>263</th>\n",
       "      <td>2020-12-20</td>\n",
       "      <td>309483.0</td>\n",
       "      <td>1633</td>\n",
       "      <td>35030.0</td>\n",
       "      <td>21763.0</td>\n",
       "      <td>2382</td>\n",
       "      <td>113601.0</td>\n",
       "      <td>643866.0</td>\n",
       "      <td>180557416.0</td>\n",
       "      <td>1220587</td>\n",
       "      <td>3530.0</td>\n",
       "      <td>7695.0</td>\n",
       "      <td>17649893.0</td>\n",
       "      <td>196017</td>\n",
       "      <td>6935156.0</td>\n",
       "      <td>56</td>\n",
       "      <td>232122652</td>\n",
       "      <td>1782180</td>\n",
       "    </tr>\n",
       "    <tr>\n",
       "      <th>264</th>\n",
       "      <td>2020-12-21</td>\n",
       "      <td>310968.0</td>\n",
       "      <td>1485</td>\n",
       "      <td>35178.0</td>\n",
       "      <td>21899.0</td>\n",
       "      <td>3214</td>\n",
       "      <td>115351.0</td>\n",
       "      <td>647080.0</td>\n",
       "      <td>182170319.0</td>\n",
       "      <td>1612903</td>\n",
       "      <td>3539.0</td>\n",
       "      <td>7776.0</td>\n",
       "      <td>17828084.0</td>\n",
       "      <td>178191</td>\n",
       "      <td>7043814.0</td>\n",
       "      <td>56</td>\n",
       "      <td>234199026</td>\n",
       "      <td>2076374</td>\n",
       "    </tr>\n",
       "  </tbody>\n",
       "</table>\n",
       "<p>265 rows × 18 columns</p>\n",
       "</div>"
      ],
      "text/plain": [
       "          date     death  deathIncrease  inIcuCumulative  inIcuCurrently  \\\n",
       "0   2020-04-01    5336.0           1004            256.0          3937.0   \n",
       "1   2020-04-02    6514.0           1178            305.0          4513.0   \n",
       "2   2020-04-03    7799.0           1285            335.0          4928.0   \n",
       "3   2020-04-04    9280.0           1481            403.0          5500.0   \n",
       "4   2020-04-05   10619.0           1339            609.0          5811.0   \n",
       "..         ...       ...            ...              ...             ...   \n",
       "260 2020-12-17  302261.0           3438          34485.0         21910.0   \n",
       "261 2020-12-18  305127.0           2866          34716.0         21745.0   \n",
       "262 2020-12-19  307850.0           2723          34949.0         21688.0   \n",
       "263 2020-12-20  309483.0           1633          35030.0         21763.0   \n",
       "264 2020-12-21  310968.0           1485          35178.0         21899.0   \n",
       "\n",
       "     hospitalizedIncrease  hospitalizedCurrently  hospitalizedCumulative  \\\n",
       "0                    4134                20906.0                 27930.0   \n",
       "1                    4198                22997.0                 32128.0   \n",
       "2                    4603                25777.0                 36731.0   \n",
       "3                    5012                30268.0                 41743.0   \n",
       "4                    3937                32180.0                 45680.0   \n",
       "..                    ...                    ...                     ...   \n",
       "260                  5133               114459.0                632907.0   \n",
       "261                  5240               113955.0                638147.0   \n",
       "262                  3337               113929.0                641484.0   \n",
       "263                  2382               113601.0                643866.0   \n",
       "264                  3214               115351.0                647080.0   \n",
       "\n",
       "        negative  negativeIncrease  onVentilatorCumulative  \\\n",
       "0      1028082.0             86693                    32.0   \n",
       "1      1127354.0             99272                    32.0   \n",
       "2      1231890.0            104536                    39.0   \n",
       "3      1428863.0            196973                    39.0   \n",
       "4      1521226.0             92363                    39.0   \n",
       "..           ...               ...                     ...   \n",
       "260  176612654.0           1257813                  3504.0   \n",
       "261  178149619.0           1536965                  3519.0   \n",
       "262  179336829.0           1187210                  3529.0   \n",
       "263  180557416.0           1220587                  3530.0   \n",
       "264  182170319.0           1612903                  3539.0   \n",
       "\n",
       "     onVentilatorCurrently    positive  positiveIncrease  recovered  states  \\\n",
       "0                    561.0    223165.0             26233     7084.0      56   \n",
       "1                    574.0    251272.0             28107     8586.0      56   \n",
       "2                    623.0    283145.0             31873    10861.0      56   \n",
       "3                    656.0    316230.0             33085    12844.0      56   \n",
       "4                    652.0    342109.0             25879    14589.0      56   \n",
       "..                     ...         ...               ...        ...     ...   \n",
       "260                 7847.0  17011818.0            240156  6681651.0      56   \n",
       "261                 7786.0  17251064.0            239246  6762700.0      56   \n",
       "262                 7790.0  17453876.0            202812  6882996.0      56   \n",
       "263                 7695.0  17649893.0            196017  6935156.0      56   \n",
       "264                 7776.0  17828084.0            178191  7043814.0      56   \n",
       "\n",
       "     totalTestResults  totalTestResultsIncrease  \n",
       "0             1302177                    118204  \n",
       "1             1431542                    129365  \n",
       "2             1572257                    140715  \n",
       "3             1804491                    232234  \n",
       "4             1924137                    119646  \n",
       "..                ...                       ...  \n",
       "260         226403201                   1873340  \n",
       "261         228600886                   2197685  \n",
       "262         230340472                   1739586  \n",
       "263         232122652                   1782180  \n",
       "264         234199026                   2076374  \n",
       "\n",
       "[265 rows x 18 columns]"
      ]
     },
     "execution_count": 468,
     "metadata": {},
     "output_type": "execute_result"
    }
   ],
   "source": [
    "df_national = pd.read_csv('national-history.csv')\n",
    "df_national = df_national.dropna()\n",
    "df_national['date'] = pd.to_datetime(df_national['date'])\n",
    "df_national = df_national.sort_values(by='date')\n",
    "df_national.index = list(range(len(df_national)))\n",
    "df_national = df_national[df_national.date <= '2020-12-21']  # to match stringency data\n",
    "df_national"
   ]
  },
  {
   "cell_type": "code",
   "execution_count": 469,
   "metadata": {},
   "outputs": [
    {
     "data": {
      "text/plain": [
       "<AxesSubplot:>"
      ]
     },
     "execution_count": 469,
     "metadata": {},
     "output_type": "execute_result"
    },
    {
     "data": {
      "image/png": "[encoded data removed]",
      "text/plain": [
       "<Figure size 432x288 with 1 Axes>"
      ]
     },
     "metadata": {
      "needs_background": "light"
     },
     "output_type": "display_data"
    }
   ],
   "source": [
    "df_national.positiveIncrease.plot()"
   ]
  },
  {
   "cell_type": "code",
   "execution_count": 471,
   "metadata": {},
   "outputs": [
    {
     "data": {
      "text/html": [
       "<div>\n",
       "<style scoped>\n",
       "    .dataframe tbody tr th:only-of-type {\n",
       "        vertical-align: middle;\n",
       "    }\n",
       "\n",
       "    .dataframe tbody tr th {\n",
       "        vertical-align: top;\n",
       "    }\n",
       "\n",
       "    .dataframe thead th {\n",
       "        text-align: right;\n",
       "    }\n",
       "</style>\n",
       "<table border=\"1\" class=\"dataframe\">\n",
       "  <thead>\n",
       "    <tr style=\"text-align: right;\">\n",
       "      <th></th>\n",
       "      <th>date</th>\n",
       "      <th>stringency_index</th>\n",
       "    </tr>\n",
       "  </thead>\n",
       "  <tbody>\n",
       "    <tr>\n",
       "      <th>55087</th>\n",
       "      <td>2020-04-01</td>\n",
       "      <td>72.69</td>\n",
       "    </tr>\n",
       "    <tr>\n",
       "      <th>55088</th>\n",
       "      <td>2020-04-02</td>\n",
       "      <td>72.69</td>\n",
       "    </tr>\n",
       "    <tr>\n",
       "      <th>55089</th>\n",
       "      <td>2020-04-03</td>\n",
       "      <td>72.69</td>\n",
       "    </tr>\n",
       "    <tr>\n",
       "      <th>55090</th>\n",
       "      <td>2020-04-04</td>\n",
       "      <td>72.69</td>\n",
       "    </tr>\n",
       "    <tr>\n",
       "      <th>55091</th>\n",
       "      <td>2020-04-05</td>\n",
       "      <td>72.69</td>\n",
       "    </tr>\n",
       "    <tr>\n",
       "      <th>...</th>\n",
       "      <td>...</td>\n",
       "      <td>...</td>\n",
       "    </tr>\n",
       "    <tr>\n",
       "      <th>55347</th>\n",
       "      <td>2020-12-17</td>\n",
       "      <td>71.76</td>\n",
       "    </tr>\n",
       "    <tr>\n",
       "      <th>55348</th>\n",
       "      <td>2020-12-18</td>\n",
       "      <td>71.76</td>\n",
       "    </tr>\n",
       "    <tr>\n",
       "      <th>55349</th>\n",
       "      <td>2020-12-19</td>\n",
       "      <td>71.76</td>\n",
       "    </tr>\n",
       "    <tr>\n",
       "      <th>55350</th>\n",
       "      <td>2020-12-20</td>\n",
       "      <td>71.76</td>\n",
       "    </tr>\n",
       "    <tr>\n",
       "      <th>55351</th>\n",
       "      <td>2020-12-21</td>\n",
       "      <td>71.76</td>\n",
       "    </tr>\n",
       "  </tbody>\n",
       "</table>\n",
       "<p>265 rows × 2 columns</p>\n",
       "</div>"
      ],
      "text/plain": [
       "             date  stringency_index\n",
       "55087  2020-04-01             72.69\n",
       "55088  2020-04-02             72.69\n",
       "55089  2020-04-03             72.69\n",
       "55090  2020-04-04             72.69\n",
       "55091  2020-04-05             72.69\n",
       "...           ...               ...\n",
       "55347  2020-12-17             71.76\n",
       "55348  2020-12-18             71.76\n",
       "55349  2020-12-19             71.76\n",
       "55350  2020-12-20             71.76\n",
       "55351  2020-12-21             71.76\n",
       "\n",
       "[265 rows x 2 columns]"
      ]
     },
     "execution_count": 471,
     "metadata": {},
     "output_type": "execute_result"
    }
   ],
   "source": [
    "df_owid = pd.read_csv('owid-covid-data.csv')\n",
    "df_owid = df_owid[df_owid.iso_code=='USA']\n",
    "df_owid = df_owid[['date', 'stringency_index']]\n",
    "df_owid = df_owid[df_owid.date >= '2020-04-01']  # to match national data\n",
    "df_owid = df_owid.dropna()\n",
    "df_owid"
   ]
  },
  {
   "cell_type": "code",
   "execution_count": 473,
   "metadata": {},
   "outputs": [
    {
     "data": {
      "text/plain": [
       "<AxesSubplot:>"
      ]
     },
     "execution_count": 473,
     "metadata": {},
     "output_type": "execute_result"
    },
    {
     "data": {
      "image/png": "[encoded data removed]",
      "text/plain": [
       "<Figure size 432x288 with 1 Axes>"
      ]
     },
     "metadata": {
      "needs_background": "light"
     },
     "output_type": "display_data"
    }
   ],
   "source": [
    "df_owid.stringency_index.plot()"
   ]
  },
  {
   "cell_type": "code",
   "execution_count": 475,
   "metadata": {},
   "outputs": [
    {
     "name": "stdout",
     "output_type": "stream",
     "text": [
      "(-0.03457747582439616, 0.5855892131589904)\n",
      "SpearmanrResult(correlation=-0.3772967559902477, pvalue=6.51300811862914e-10)\n"
     ]
    }
   ],
   "source": [
    "Lag = 14\n",
    "print(pearsonr(df_owid.stringency_index[:-Lag], df_national.positiveIncrease[Lag:]))\n",
    "print(spearmanr(df_owid.stringency_index[:-Lag], df_national.positiveIncrease[Lag:]))"
   ]
  },
  {
   "cell_type": "code",
   "execution_count": null,
   "metadata": {},
   "outputs": [],
   "source": []
  },
  {
   "cell_type": "markdown",
   "metadata": {},
   "source": [
    "## Optimal stringency"
   ]
  },
  {
   "cell_type": "code",
   "execution_count": 19,
   "metadata": {},
   "outputs": [
    {
     "data": {
      "text/html": [
       "<div>\n",
       "<style scoped>\n",
       "    .dataframe tbody tr th:only-of-type {\n",
       "        vertical-align: middle;\n",
       "    }\n",
       "\n",
       "    .dataframe tbody tr th {\n",
       "        vertical-align: top;\n",
       "    }\n",
       "\n",
       "    .dataframe thead th {\n",
       "        text-align: right;\n",
       "    }\n",
       "</style>\n",
       "<table border=\"1\" class=\"dataframe\">\n",
       "  <thead>\n",
       "    <tr style=\"text-align: right;\">\n",
       "      <th></th>\n",
       "      <th>statefips</th>\n",
       "      <th>date</th>\n",
       "      <th>Stringency</th>\n",
       "      <th>positiveIncrease</th>\n",
       "      <th>deathIncrease</th>\n",
       "      <th>hospitalizedIncrease</th>\n",
       "      <th>totalTestsPeopleViralIncrease</th>\n",
       "      <th>statename</th>\n",
       "      <th>shadow_index_normalized</th>\n",
       "      <th>Rt</th>\n",
       "    </tr>\n",
       "  </thead>\n",
       "  <tbody>\n",
       "    <tr>\n",
       "      <th>0</th>\n",
       "      <td>1</td>\n",
       "      <td>2020-03-07</td>\n",
       "      <td>8.33</td>\n",
       "      <td>0.0</td>\n",
       "      <td>0.0</td>\n",
       "      <td>0.0</td>\n",
       "      <td>0.0</td>\n",
       "      <td>Alabama</td>\n",
       "      <td>7.647214</td>\n",
       "      <td>2.058230</td>\n",
       "    </tr>\n",
       "    <tr>\n",
       "      <th>1</th>\n",
       "      <td>1</td>\n",
       "      <td>2020-03-08</td>\n",
       "      <td>8.33</td>\n",
       "      <td>0.0</td>\n",
       "      <td>0.0</td>\n",
       "      <td>0.0</td>\n",
       "      <td>0.0</td>\n",
       "      <td>Alabama</td>\n",
       "      <td>6.104251</td>\n",
       "      <td>2.035865</td>\n",
       "    </tr>\n",
       "    <tr>\n",
       "      <th>2</th>\n",
       "      <td>1</td>\n",
       "      <td>2020-03-09</td>\n",
       "      <td>8.33</td>\n",
       "      <td>0.0</td>\n",
       "      <td>0.0</td>\n",
       "      <td>0.0</td>\n",
       "      <td>0.0</td>\n",
       "      <td>Alabama</td>\n",
       "      <td>7.227147</td>\n",
       "      <td>2.005499</td>\n",
       "    </tr>\n",
       "    <tr>\n",
       "      <th>3</th>\n",
       "      <td>1</td>\n",
       "      <td>2020-03-10</td>\n",
       "      <td>16.67</td>\n",
       "      <td>0.0</td>\n",
       "      <td>0.0</td>\n",
       "      <td>0.0</td>\n",
       "      <td>0.0</td>\n",
       "      <td>Alabama</td>\n",
       "      <td>6.999156</td>\n",
       "      <td>1.978277</td>\n",
       "    </tr>\n",
       "    <tr>\n",
       "      <th>4</th>\n",
       "      <td>1</td>\n",
       "      <td>2020-03-11</td>\n",
       "      <td>16.67</td>\n",
       "      <td>0.0</td>\n",
       "      <td>0.0</td>\n",
       "      <td>0.0</td>\n",
       "      <td>10.0</td>\n",
       "      <td>Alabama</td>\n",
       "      <td>6.644607</td>\n",
       "      <td>1.939723</td>\n",
       "    </tr>\n",
       "    <tr>\n",
       "      <th>...</th>\n",
       "      <td>...</td>\n",
       "      <td>...</td>\n",
       "      <td>...</td>\n",
       "      <td>...</td>\n",
       "      <td>...</td>\n",
       "      <td>...</td>\n",
       "      <td>...</td>\n",
       "      <td>...</td>\n",
       "      <td>...</td>\n",
       "      <td>...</td>\n",
       "    </tr>\n",
       "    <tr>\n",
       "      <th>18121</th>\n",
       "      <td>56</td>\n",
       "      <td>2021-01-22</td>\n",
       "      <td>66.67</td>\n",
       "      <td>159.0</td>\n",
       "      <td>21.0</td>\n",
       "      <td>3.0</td>\n",
       "      <td>0.0</td>\n",
       "      <td>Wyoming</td>\n",
       "      <td>38.312439</td>\n",
       "      <td>0.923943</td>\n",
       "    </tr>\n",
       "    <tr>\n",
       "      <th>18122</th>\n",
       "      <td>56</td>\n",
       "      <td>2021-01-23</td>\n",
       "      <td>66.67</td>\n",
       "      <td>0.0</td>\n",
       "      <td>0.0</td>\n",
       "      <td>0.0</td>\n",
       "      <td>0.0</td>\n",
       "      <td>Wyoming</td>\n",
       "      <td>41.131689</td>\n",
       "      <td>0.925517</td>\n",
       "    </tr>\n",
       "    <tr>\n",
       "      <th>18123</th>\n",
       "      <td>56</td>\n",
       "      <td>2021-01-24</td>\n",
       "      <td>66.67</td>\n",
       "      <td>315.0</td>\n",
       "      <td>0.0</td>\n",
       "      <td>8.0</td>\n",
       "      <td>0.0</td>\n",
       "      <td>Wyoming</td>\n",
       "      <td>40.648092</td>\n",
       "      <td>0.925426</td>\n",
       "    </tr>\n",
       "    <tr>\n",
       "      <th>18124</th>\n",
       "      <td>56</td>\n",
       "      <td>2021-01-25</td>\n",
       "      <td>66.67</td>\n",
       "      <td>164.0</td>\n",
       "      <td>0.0</td>\n",
       "      <td>5.0</td>\n",
       "      <td>0.0</td>\n",
       "      <td>Wyoming</td>\n",
       "      <td>41.151607</td>\n",
       "      <td>0.925535</td>\n",
       "    </tr>\n",
       "    <tr>\n",
       "      <th>18125</th>\n",
       "      <td>56</td>\n",
       "      <td>2021-01-26</td>\n",
       "      <td>66.67</td>\n",
       "      <td>90.0</td>\n",
       "      <td>25.0</td>\n",
       "      <td>1.0</td>\n",
       "      <td>2757.0</td>\n",
       "      <td>Wyoming</td>\n",
       "      <td>39.436469</td>\n",
       "      <td>0.928096</td>\n",
       "    </tr>\n",
       "  </tbody>\n",
       "</table>\n",
       "<p>16624 rows × 10 columns</p>\n",
       "</div>"
      ],
      "text/plain": [
       "       statefips       date  Stringency  positiveIncrease  deathIncrease  \\\n",
       "0              1 2020-03-07        8.33               0.0            0.0   \n",
       "1              1 2020-03-08        8.33               0.0            0.0   \n",
       "2              1 2020-03-09        8.33               0.0            0.0   \n",
       "3              1 2020-03-10       16.67               0.0            0.0   \n",
       "4              1 2020-03-11       16.67               0.0            0.0   \n",
       "...          ...        ...         ...               ...            ...   \n",
       "18121         56 2021-01-22       66.67             159.0           21.0   \n",
       "18122         56 2021-01-23       66.67               0.0            0.0   \n",
       "18123         56 2021-01-24       66.67             315.0            0.0   \n",
       "18124         56 2021-01-25       66.67             164.0            0.0   \n",
       "18125         56 2021-01-26       66.67              90.0           25.0   \n",
       "\n",
       "       hospitalizedIncrease  totalTestsPeopleViralIncrease statename  \\\n",
       "0                       0.0                            0.0   Alabama   \n",
       "1                       0.0                            0.0   Alabama   \n",
       "2                       0.0                            0.0   Alabama   \n",
       "3                       0.0                            0.0   Alabama   \n",
       "4                       0.0                           10.0   Alabama   \n",
       "...                     ...                            ...       ...   \n",
       "18121                   3.0                            0.0   Wyoming   \n",
       "18122                   0.0                            0.0   Wyoming   \n",
       "18123                   8.0                            0.0   Wyoming   \n",
       "18124                   5.0                            0.0   Wyoming   \n",
       "18125                   1.0                         2757.0   Wyoming   \n",
       "\n",
       "       shadow_index_normalized        Rt  \n",
       "0                     7.647214  2.058230  \n",
       "1                     6.104251  2.035865  \n",
       "2                     7.227147  2.005499  \n",
       "3                     6.999156  1.978277  \n",
       "4                     6.644607  1.939723  \n",
       "...                        ...       ...  \n",
       "18121                38.312439  0.923943  \n",
       "18122                41.131689  0.925517  \n",
       "18123                40.648092  0.925426  \n",
       "18124                41.151607  0.925535  \n",
       "18125                39.436469  0.928096  \n",
       "\n",
       "[16624 rows x 10 columns]"
      ]
     },
     "execution_count": 19,
     "metadata": {},
     "output_type": "execute_result"
    }
   ],
   "source": [
    "df_merged"
   ]
  },
  {
   "cell_type": "code",
   "execution_count": 26,
   "metadata": {},
   "outputs": [],
   "source": [
    "SDI_bins = np.linspace(df_merged.shadow_index_normalized.min(), df_merged.shadow_index_normalized.max(),20)"
   ]
  },
  {
   "cell_type": "code",
   "execution_count": 29,
   "metadata": {},
   "outputs": [],
   "source": [
    "optimal_stringency = np.zeros_like(SDI_bins)"
   ]
  },
  {
   "cell_type": "code",
   "execution_count": null,
   "metadata": {},
   "outputs": [],
   "source": []
  },
  {
   "cell_type": "code",
   "execution_count": null,
   "metadata": {},
   "outputs": [],
   "source": []
  },
  {
   "cell_type": "code",
   "execution_count": null,
   "metadata": {},
   "outputs": [],
   "source": []
  },
  {
   "cell_type": "code",
   "execution_count": null,
   "metadata": {},
   "outputs": [],
   "source": []
  },
  {
   "cell_type": "code",
   "execution_count": 252,
   "metadata": {},
   "outputs": [],
   "source": [
    "### Growth rate a dependent variable\n",
    "longLag = 25\n",
    "shortLag = 7\n",
    "tmp = df_merged.groupby('statefips')['positiveIncrease'].rolling(longLag).sum()\n",
    "df_merged['rollinglongLagDayPosLag1'] = tmp.droplevel(level=0)\n",
    "\n",
    "tmp = df_merged.groupby('statefips')['positiveIncrease'].rolling(shortLag).sum()\n",
    "df_merged['rollingshortLagDayPos'] = tmp.droplevel(level=0)\n",
    "\n",
    "df_merged['newPositiveFraction'] = df_merged['rollingshortLagDayPos'] / df_merged['rollinglongLagDayPosLag1']"
   ]
  },
  {
   "cell_type": "code",
   "execution_count": null,
   "metadata": {},
   "outputs": [],
   "source": []
  }
 ],
 "metadata": {
  "kernelspec": {
   "display_name": "Python 3",
   "language": "python",
   "name": "python3"
  },
  "language_info": {
   "codemirror_mode": {
    "name": "ipython",
    "version": 3
   },
   "file_extension": ".py",
   "mimetype": "text/x-python",
   "name": "python",
   "nbconvert_exporter": "python",
   "pygments_lexer": "ipython3",
   "version": "3.7.9"
  }
 },
 "nbformat": 4,
 "nbformat_minor": 4
}
