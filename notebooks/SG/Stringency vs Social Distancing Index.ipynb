{
 "cells": [
  {
   "cell_type": "code",
   "execution_count": 107,
   "metadata": {},
   "outputs": [],
   "source": [
    "import numpy as np\n",
    "import matplotlib.pyplot as plt\n",
    "import pandas as pd\n",
    "import seaborn as sns\n",
    "%matplotlib inline\n",
    "\n",
    "from useful_functions.plotter import plot"
   ]
  },
  {
   "cell_type": "code",
   "execution_count": 51,
   "metadata": {},
   "outputs": [],
   "source": [
    "populations = pd.read_csv('../data/US_States/TrackTheRecovery/GeoIDs - State.csv', index_col='statefips')\n",
    "case_data = pd.read_csv('../DL/data/states_unstacked.csv')\n",
    "case_data = case_data[case_data['date'] <= '2021-02-25']\n",
    "case_data = case_data.rename(columns={'Unnamed: 0': \"statefips\"})\n",
    "case_data = case_data.sort_values(['date','statefips'])\n",
    "iso_index = pd.read_csv('../data/US_States/cleaned_data/mobility_pca_only.csv')\n",
    "iso_index = iso_index.sort_values(['Date', 'statefips'])\n",
    "\n",
    "state_ids = populations.index.values\n",
    "dates = iso_index['Date'].unique()\n",
    "dates.sort()"
   ]
  },
  {
   "cell_type": "code",
   "execution_count": 52,
   "metadata": {},
   "outputs": [
    {
     "data": {
      "text/html": [
       "<div>\n",
       "<style scoped>\n",
       "    .dataframe tbody tr th:only-of-type {\n",
       "        vertical-align: middle;\n",
       "    }\n",
       "\n",
       "    .dataframe tbody tr th {\n",
       "        vertical-align: top;\n",
       "    }\n",
       "\n",
       "    .dataframe thead th {\n",
       "        text-align: right;\n",
       "    }\n",
       "</style>\n",
       "<table border=\"1\" class=\"dataframe\">\n",
       "  <thead>\n",
       "    <tr style=\"text-align: right;\">\n",
       "      <th></th>\n",
       "      <th>statefips</th>\n",
       "      <th>date</th>\n",
       "      <th>Stringency</th>\n",
       "      <th>positiveIncrease</th>\n",
       "      <th>deathIncrease</th>\n",
       "      <th>hospitalizedIncrease</th>\n",
       "      <th>totalTestsPeopleViralIncrease</th>\n",
       "    </tr>\n",
       "  </thead>\n",
       "  <tbody>\n",
       "    <tr>\n",
       "      <th>0</th>\n",
       "      <td>1</td>\n",
       "      <td>2020-02-01</td>\n",
       "      <td>0.00</td>\n",
       "      <td>0.0</td>\n",
       "      <td>0.0</td>\n",
       "      <td>0.0</td>\n",
       "      <td>0.0</td>\n",
       "    </tr>\n",
       "    <tr>\n",
       "      <th>395</th>\n",
       "      <td>2</td>\n",
       "      <td>2020-02-01</td>\n",
       "      <td>5.56</td>\n",
       "      <td>0.0</td>\n",
       "      <td>0.0</td>\n",
       "      <td>0.0</td>\n",
       "      <td>0.0</td>\n",
       "    </tr>\n",
       "    <tr>\n",
       "      <th>790</th>\n",
       "      <td>4</td>\n",
       "      <td>2020-02-01</td>\n",
       "      <td>5.56</td>\n",
       "      <td>0.0</td>\n",
       "      <td>0.0</td>\n",
       "      <td>0.0</td>\n",
       "      <td>0.0</td>\n",
       "    </tr>\n",
       "    <tr>\n",
       "      <th>1185</th>\n",
       "      <td>5</td>\n",
       "      <td>2020-02-01</td>\n",
       "      <td>0.00</td>\n",
       "      <td>0.0</td>\n",
       "      <td>0.0</td>\n",
       "      <td>0.0</td>\n",
       "      <td>0.0</td>\n",
       "    </tr>\n",
       "    <tr>\n",
       "      <th>1580</th>\n",
       "      <td>6</td>\n",
       "      <td>2020-02-01</td>\n",
       "      <td>2.78</td>\n",
       "      <td>0.0</td>\n",
       "      <td>0.0</td>\n",
       "      <td>0.0</td>\n",
       "      <td>0.0</td>\n",
       "    </tr>\n",
       "    <tr>\n",
       "      <th>...</th>\n",
       "      <td>...</td>\n",
       "      <td>...</td>\n",
       "      <td>...</td>\n",
       "      <td>...</td>\n",
       "      <td>...</td>\n",
       "      <td>...</td>\n",
       "      <td>...</td>\n",
       "    </tr>\n",
       "    <tr>\n",
       "      <th>18165</th>\n",
       "      <td>51</td>\n",
       "      <td>2021-02-25</td>\n",
       "      <td>62.04</td>\n",
       "      <td>2036.0</td>\n",
       "      <td>156.0</td>\n",
       "      <td>73.0</td>\n",
       "      <td>0.0</td>\n",
       "    </tr>\n",
       "    <tr>\n",
       "      <th>18560</th>\n",
       "      <td>53</td>\n",
       "      <td>2021-02-25</td>\n",
       "      <td>65.74</td>\n",
       "      <td>872.0</td>\n",
       "      <td>31.0</td>\n",
       "      <td>51.0</td>\n",
       "      <td>0.0</td>\n",
       "    </tr>\n",
       "    <tr>\n",
       "      <th>19350</th>\n",
       "      <td>54</td>\n",
       "      <td>2021-02-25</td>\n",
       "      <td>49.07</td>\n",
       "      <td>431.0</td>\n",
       "      <td>5.0</td>\n",
       "      <td>0.0</td>\n",
       "      <td>0.0</td>\n",
       "    </tr>\n",
       "    <tr>\n",
       "      <th>19745</th>\n",
       "      <td>55</td>\n",
       "      <td>2021-02-25</td>\n",
       "      <td>56.02</td>\n",
       "      <td>965.0</td>\n",
       "      <td>58.0</td>\n",
       "      <td>61.0</td>\n",
       "      <td>13177.0</td>\n",
       "    </tr>\n",
       "    <tr>\n",
       "      <th>20140</th>\n",
       "      <td>56</td>\n",
       "      <td>2021-02-25</td>\n",
       "      <td>61.11</td>\n",
       "      <td>214.0</td>\n",
       "      <td>0.0</td>\n",
       "      <td>3.0</td>\n",
       "      <td>364.0</td>\n",
       "    </tr>\n",
       "  </tbody>\n",
       "</table>\n",
       "<p>19941 rows × 7 columns</p>\n",
       "</div>"
      ],
      "text/plain": [
       "       statefips        date  Stringency  positiveIncrease  deathIncrease  \\\n",
       "0              1  2020-02-01        0.00               0.0            0.0   \n",
       "395            2  2020-02-01        5.56               0.0            0.0   \n",
       "790            4  2020-02-01        5.56               0.0            0.0   \n",
       "1185           5  2020-02-01        0.00               0.0            0.0   \n",
       "1580           6  2020-02-01        2.78               0.0            0.0   \n",
       "...          ...         ...         ...               ...            ...   \n",
       "18165         51  2021-02-25       62.04            2036.0          156.0   \n",
       "18560         53  2021-02-25       65.74             872.0           31.0   \n",
       "19350         54  2021-02-25       49.07             431.0            5.0   \n",
       "19745         55  2021-02-25       56.02             965.0           58.0   \n",
       "20140         56  2021-02-25       61.11             214.0            0.0   \n",
       "\n",
       "       hospitalizedIncrease  totalTestsPeopleViralIncrease  \n",
       "0                       0.0                            0.0  \n",
       "395                     0.0                            0.0  \n",
       "790                     0.0                            0.0  \n",
       "1185                    0.0                            0.0  \n",
       "1580                    0.0                            0.0  \n",
       "...                     ...                            ...  \n",
       "18165                  73.0                            0.0  \n",
       "18560                  51.0                            0.0  \n",
       "19350                   0.0                            0.0  \n",
       "19745                  61.0                        13177.0  \n",
       "20140                   3.0                          364.0  \n",
       "\n",
       "[19941 rows x 7 columns]"
      ]
     },
     "execution_count": 52,
     "metadata": {},
     "output_type": "execute_result"
    }
   ],
   "source": [
    "case_data"
   ]
  },
  {
   "cell_type": "code",
   "execution_count": 53,
   "metadata": {},
   "outputs": [
    {
     "data": {
      "text/html": [
       "<div>\n",
       "<style scoped>\n",
       "    .dataframe tbody tr th:only-of-type {\n",
       "        vertical-align: middle;\n",
       "    }\n",
       "\n",
       "    .dataframe tbody tr th {\n",
       "        vertical-align: top;\n",
       "    }\n",
       "\n",
       "    .dataframe thead th {\n",
       "        text-align: right;\n",
       "    }\n",
       "</style>\n",
       "<table border=\"1\" class=\"dataframe\">\n",
       "  <thead>\n",
       "    <tr style=\"text-align: right;\">\n",
       "      <th></th>\n",
       "      <th>Unnamed: 0</th>\n",
       "      <th>statefips</th>\n",
       "      <th>statename</th>\n",
       "      <th>Date</th>\n",
       "      <th>shadow_index_normalized</th>\n",
       "    </tr>\n",
       "  </thead>\n",
       "  <tbody>\n",
       "    <tr>\n",
       "      <th>0</th>\n",
       "      <td>0</td>\n",
       "      <td>1</td>\n",
       "      <td>Alabama</td>\n",
       "      <td>2020-02-01</td>\n",
       "      <td>3.470011</td>\n",
       "    </tr>\n",
       "    <tr>\n",
       "      <th>1</th>\n",
       "      <td>1</td>\n",
       "      <td>2</td>\n",
       "      <td>Alaska</td>\n",
       "      <td>2020-02-01</td>\n",
       "      <td>5.633745</td>\n",
       "    </tr>\n",
       "    <tr>\n",
       "      <th>2</th>\n",
       "      <td>2</td>\n",
       "      <td>4</td>\n",
       "      <td>Arizona</td>\n",
       "      <td>2020-02-01</td>\n",
       "      <td>3.786875</td>\n",
       "    </tr>\n",
       "    <tr>\n",
       "      <th>3</th>\n",
       "      <td>3</td>\n",
       "      <td>5</td>\n",
       "      <td>Arkansas</td>\n",
       "      <td>2020-02-01</td>\n",
       "      <td>2.984032</td>\n",
       "    </tr>\n",
       "    <tr>\n",
       "      <th>4</th>\n",
       "      <td>4</td>\n",
       "      <td>6</td>\n",
       "      <td>California</td>\n",
       "      <td>2020-02-01</td>\n",
       "      <td>3.781656</td>\n",
       "    </tr>\n",
       "    <tr>\n",
       "      <th>...</th>\n",
       "      <td>...</td>\n",
       "      <td>...</td>\n",
       "      <td>...</td>\n",
       "      <td>...</td>\n",
       "      <td>...</td>\n",
       "    </tr>\n",
       "    <tr>\n",
       "      <th>19936</th>\n",
       "      <td>19936</td>\n",
       "      <td>51</td>\n",
       "      <td>Virginia</td>\n",
       "      <td>2021-02-25</td>\n",
       "      <td>54.487582</td>\n",
       "    </tr>\n",
       "    <tr>\n",
       "      <th>19937</th>\n",
       "      <td>19937</td>\n",
       "      <td>53</td>\n",
       "      <td>Washington</td>\n",
       "      <td>2021-02-25</td>\n",
       "      <td>33.655507</td>\n",
       "    </tr>\n",
       "    <tr>\n",
       "      <th>19938</th>\n",
       "      <td>19938</td>\n",
       "      <td>54</td>\n",
       "      <td>West Virginia</td>\n",
       "      <td>2021-02-25</td>\n",
       "      <td>40.557192</td>\n",
       "    </tr>\n",
       "    <tr>\n",
       "      <th>19939</th>\n",
       "      <td>19939</td>\n",
       "      <td>55</td>\n",
       "      <td>Wisconsin</td>\n",
       "      <td>2021-02-25</td>\n",
       "      <td>46.619273</td>\n",
       "    </tr>\n",
       "    <tr>\n",
       "      <th>19940</th>\n",
       "      <td>19940</td>\n",
       "      <td>56</td>\n",
       "      <td>Wyoming</td>\n",
       "      <td>2021-02-25</td>\n",
       "      <td>42.436364</td>\n",
       "    </tr>\n",
       "  </tbody>\n",
       "</table>\n",
       "<p>19941 rows × 5 columns</p>\n",
       "</div>"
      ],
      "text/plain": [
       "       Unnamed: 0  statefips      statename        Date  \\\n",
       "0               0          1        Alabama  2020-02-01   \n",
       "1               1          2         Alaska  2020-02-01   \n",
       "2               2          4        Arizona  2020-02-01   \n",
       "3               3          5       Arkansas  2020-02-01   \n",
       "4               4          6     California  2020-02-01   \n",
       "...           ...        ...            ...         ...   \n",
       "19936       19936         51       Virginia  2021-02-25   \n",
       "19937       19937         53     Washington  2021-02-25   \n",
       "19938       19938         54  West Virginia  2021-02-25   \n",
       "19939       19939         55      Wisconsin  2021-02-25   \n",
       "19940       19940         56        Wyoming  2021-02-25   \n",
       "\n",
       "       shadow_index_normalized  \n",
       "0                     3.470011  \n",
       "1                     5.633745  \n",
       "2                     3.786875  \n",
       "3                     2.984032  \n",
       "4                     3.781656  \n",
       "...                        ...  \n",
       "19936                54.487582  \n",
       "19937                33.655507  \n",
       "19938                40.557192  \n",
       "19939                46.619273  \n",
       "19940                42.436364  \n",
       "\n",
       "[19941 rows x 5 columns]"
      ]
     },
     "execution_count": 53,
     "metadata": {},
     "output_type": "execute_result"
    }
   ],
   "source": [
    "iso_index"
   ]
  },
  {
   "cell_type": "code",
   "execution_count": 66,
   "metadata": {},
   "outputs": [
    {
     "data": {
      "text/plain": [
       "'2020-02-08'"
      ]
     },
     "execution_count": 66,
     "metadata": {},
     "output_type": "execute_result"
    }
   ],
   "source": [
    "str(np.datetime64(dates[0]) + np.timedelta64(7,'D'))"
   ]
  },
  {
   "cell_type": "code",
   "execution_count": 69,
   "metadata": {},
   "outputs": [],
   "source": [
    "result = pd.DataFrame(index=dates)\n",
    "corr = np.zeros(len(result))\n",
    "\n",
    "lag = 14\n",
    "\n",
    "# how does stringency correlate with future social distancing\n",
    "\n",
    "for i,date in enumerate(dates[:-lag]):\n",
    "    forward_date = str(np.datetime64(date) + np.timedelta64(lag,'D'))\n",
    "    strin = case_data.loc[case_data['date'] == date]['Stringency'].values\n",
    "    iso = iso_index.loc[iso_index['Date'] == forward_date]['shadow_index_normalized'].values\n",
    "    assert np.all(iso_index.loc[iso_index['Date'] == forward_date]['statefips'].values == case_data.loc[case_data['date'] == date]['statefips'].values)\n",
    "    corr[i] = np.corrcoef(strin, iso)[0][1]\n",
    "    \n",
    "result['corr'] = corr"
   ]
  },
  {
   "cell_type": "code",
   "execution_count": 72,
   "metadata": {},
   "outputs": [
    {
     "data": {
      "text/plain": [
       "Text(0, 0.5, 'Correlation between SD index and Stringency')"
      ]
     },
     "execution_count": 72,
     "metadata": {},
     "output_type": "execute_result"
    },
    {
     "data": {
      "image/png": "[encoded data removed]",
      "text/plain": [
       "<Figure size 864x432 with 1 Axes>"
      ]
     },
     "metadata": {},
     "output_type": "display_data"
    }
   ],
   "source": [
    "result['corr'].plot(figsize=(12,6))\n",
    "plt.xticks(rotation = 90)\n",
    "plt.ylabel('Correlation between SD index and Stringency')"
   ]
  },
  {
   "cell_type": "code",
   "execution_count": 130,
   "metadata": {},
   "outputs": [],
   "source": [
    "# how predictive is our index on future case growth (or death/hospitalization?)\n",
    "# how predictive is the stringency on future case growth (or death/hospitalization?)\n",
    "\n",
    "# for each state, correlate our index with \n",
    "\n",
    "result = pd.DataFrame(index=state_ids)\n",
    "corr_str = np.zeros(len(result))\n",
    "corr_ind = np.zeros(len(result))\n",
    "\n",
    "lag = 14\n",
    "metric = 'hospitalizedIncrease'\n",
    "\n",
    "# how does stringency correlate with future social distancing\n",
    "\n",
    "for i,state in enumerate(state_ids): # dates[:-lag]\n",
    "    \n",
    "    strin = case_data.loc[case_data['statefips'] == state, 'Stringency'] # stringency\n",
    "    case_met = case_data.loc[case_data['statefips'] == state, metric] # metric\n",
    "    iso = iso_index.loc[iso_index['statefips'] == state, 'shadow_index_normalized']\n",
    "    corr_ind[i] = iso.shift(lag).corr(case_met)  # correlates current isolation index with N-day future cases\n",
    "    corr_str[i] = strin.shift(lag).corr(case_met) # correlates current stringency with N-day future cases\n",
    "    \n",
    "    assert np.all(iso_index.loc[iso_index['statefips'] == state, 'statefips'].values == case_data.loc[case_data['statefips'] == state, 'statefips'].values)\n",
    "    \n",
    "    \n",
    "result['corr_str'] = corr_str\n",
    "result['corr_ind'] = corr_ind"
   ]
  },
  {
   "cell_type": "code",
   "execution_count": 134,
   "metadata": {},
   "outputs": [
    {
     "data": {
      "text/plain": [
       "Text(0, 0.5, 'Number of states')"
      ]
     },
     "execution_count": 134,
     "metadata": {},
     "output_type": "execute_result"
    },
    {
     "data": {
      "image/png": "[encoded data removed]",
      "text/plain": [
       "<Figure size 504x417.6 with 1 Axes>"
      ]
     },
     "metadata": {
      "needs_background": "light"
     },
     "output_type": "display_data"
    }
   ],
   "source": [
    "fig,ax = plot()\n",
    "\n",
    "plt.hist(result['corr_str'])\n",
    "plt.xlabel(r'Correlation between stringency and 14-day-lookahead increased hospitalizations')\n",
    "plt.ylabel(r'Number of states')"
   ]
  },
  {
   "cell_type": "code",
   "execution_count": 133,
   "metadata": {},
   "outputs": [
    {
     "data": {
      "text/plain": [
       "Text(0, 0.5, 'Number of states')"
      ]
     },
     "execution_count": 133,
     "metadata": {},
     "output_type": "execute_result"
    },
    {
     "data": {
      "image/png": "[encoded data removed]",
      "text/plain": [
       "<Figure size 504x417.6 with 1 Axes>"
      ]
     },
     "metadata": {
      "needs_background": "light"
     },
     "output_type": "display_data"
    }
   ],
   "source": [
    "fig,ax = plot()\n",
    "\n",
    "plt.hist(result['corr_ind'])\n",
    "plt.xlabel(r'Correlation between SDI and 14-day-lookahead increased hospitalizations')\n",
    "plt.ylabel(r'Number of states')"
   ]
  }
 ],
 "metadata": {
  "kernelspec": {
   "display_name": "Python 3",
   "language": "python",
   "name": "python3"
  },
  "language_info": {
   "codemirror_mode": {
    "name": "ipython",
    "version": 3
   },
   "file_extension": ".py",
   "mimetype": "text/x-python",
   "name": "python",
   "nbconvert_exporter": "python",
   "pygments_lexer": "ipython3",
   "version": "3.8.2"
  },
  "varInspector": {
   "cols": {
    "lenName": 16,
    "lenType": 16,
    "lenVar": 40
   },
   "kernels_config": {
    "python": {
     "delete_cmd_postfix": "",
     "delete_cmd_prefix": "del ",
     "library": "var_list.py",
     "varRefreshCmd": "print(var_dic_list())"
    },
    "r": {
     "delete_cmd_postfix": ") ",
     "delete_cmd_prefix": "rm(",
     "library": "var_list.r",
     "varRefreshCmd": "cat(var_dic_list()) "
    }
   },
   "types_to_exclude": [
    "module",
    "function",
    "builtin_function_or_method",
    "instance",
    "_Feature"
   ],
   "window_display": false
  }
 },
 "nbformat": 4,
 "nbformat_minor": 4
}
